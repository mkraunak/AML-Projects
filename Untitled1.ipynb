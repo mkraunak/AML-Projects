{
 "cells": [
  {
   "cell_type": "markdown",
   "metadata": {},
   "source": [
    "# Question 2 "
   ]
  },
  {
   "cell_type": "code",
   "execution_count": 1,
   "metadata": {},
   "outputs": [
    {
     "name": "stderr",
     "output_type": "stream",
     "text": [
      "Using TensorFlow backend.\n"
     ]
    }
   ],
   "source": [
    "import numpy as np\n",
    "import librosa\n",
    "from keras.layers import Dropout\n",
    "s, sr=librosa.load('train_clean_male.wav', sr=None)\n",
    "S=librosa.stft(s, n_fft=1024, hop_length=512)\n",
    "sn, sr=librosa.load('train_dirty_male.wav', sr=None)\n",
    "X=librosa.stft(sn, n_fft=1024, hop_length=512)\n",
    "\n",
    "data, sr=librosa.load('test_x_01.wav', sr=None)\n",
    "data1=librosa.stft(data, n_fft=1024, hop_length=512)\n",
    "\n",
    "\n",
    "\n",
    "data22, sr=librosa.load('test_x_02.wav', sr=None)\n",
    "data2=librosa.stft(data22, n_fft=1024, hop_length=512)"
   ]
  },
  {
   "cell_type": "code",
   "execution_count": 2,
   "metadata": {},
   "outputs": [
    {
     "data": {
      "text/plain": [
       "0.033800114"
      ]
     },
     "execution_count": 2,
     "metadata": {},
     "output_type": "execute_result"
    }
   ],
   "source": [
    "\n",
    "import numpy as np\n",
    "\n",
    "train_y=np.abs(S)\n",
    "train_x=np.abs(X)\n",
    "test_x=np.abs(data1)\n",
    "test_x2=np.abs(data2)\n",
    "\n",
    "train_yt=train_y.transpose()\n",
    "train_xt=train_x.transpose()\n",
    "test_xt=test_x.transpose()\n",
    "test_x2t=test_x2.transpose()\n",
    "\n",
    "p=np.median(train_xt)\n",
    "p"
   ]
  },
  {
   "cell_type": "code",
   "execution_count": 3,
   "metadata": {},
   "outputs": [
    {
     "name": "stdout",
     "output_type": "stream",
     "text": [
      "(2459, 513)\n"
     ]
    }
   ],
   "source": [
    "#Augment your input X with 19 silent frames \n",
    "A= np.random.uniform(low=np.amin(train_xt), high = np.mean(train_xt), size = (19,513))\n",
    "B= np.random.uniform(low=np.amin(train_yt), high = np.mean(train_yt), size = (19,513))\n",
    "\n",
    "X_tr = np.concatenate((A, train_xt), axis = 0)\n",
    "Y_tr = np.concatenate((B, train_yt), axis = 0)\n",
    "\n",
    "\n",
    "X_TRAIN = np.empty([2459,20,513])\n",
    "for i in range(2459):\n",
    "    \n",
    "    X_TRAIN[i] = X_tr[i:i+20,:]\n",
    "    \n",
    "#Preparing X_Train and Y_train to train the model    \n",
    "Y_TRAIN = Y_tr[19:,:]\n",
    "X_TRAIN=X_TRAIN.reshape((2459,20,513,1))\n",
    "print(Y_TRAIN.shape)"
   ]
  },
  {
   "cell_type": "code",
   "execution_count": 4,
   "metadata": {},
   "outputs": [],
   "source": [
    "Test1_1 = np.empty([142,20,513])\n",
    "Test2_2 = np.empty([380,20,513])\n",
    "\n",
    "# Augment the input X with 19 silent frames                        \n",
    "C= np.random.uniform(low=np.amin(test_xt), high = np.mean(test_xt), size = (19,513))\n",
    "D = np.random.uniform(low=np.amin(test_x2t), high = np.mean(test_x2t), size = (19,513))\n",
    "\n",
    "\n",
    "X_t1 = np.concatenate((C, test_xt), axis = 0)\n",
    "X_t2 = np.concatenate((D, test_x2t), axis = 0)\n",
    "\n",
    "for i in range(142):\n",
    "    Test1_1[i] = X_t1[i:i+20,:]\n",
    "for i in range(380):\n",
    "    Test2_2[i]=X_t2[i:i+20,:]"
   ]
  },
  {
   "cell_type": "code",
   "execution_count": 5,
   "metadata": {},
   "outputs": [],
   "source": [
    "\n",
    "from keras import models\n",
    "from keras import layers\n",
    "\n",
    "model1 = models.Sequential()\n",
    "model1.add(layers.Conv2D(32,(5,5),activation='tanh',padding='valid',input_shape=(20,513,1)))\n",
    "model1.add(layers.MaxPooling2D((2,2)))\n",
    "model1.add(layers.Conv2D(60,(3,3),activation='tanh',padding='valid'))\n",
    "model1.add(layers.MaxPooling2D((2,2)))\n",
    "model1.add(layers.Conv2D(60,(2,2),activation='tanh',padding='valid'))\n",
    "model1.add(layers.MaxPooling2D((2,2)))\n",
    "model1.add(layers.Flatten())\n",
    "model1.add((Dropout(0.2)))\n",
    "model1.add(layers.Dense(1999,activation='tanh'))\n",
    "model1.add(Dropout(0.3))\n",
    "model1.add(layers.Dense((513),activation='tanh'))\n",
    "\n",
    "model1.compile(optimizer='adam',loss='mean_squared_error',metrics=['mse'])\n"
   ]
  },
  {
   "cell_type": "code",
   "execution_count": 6,
   "metadata": {},
   "outputs": [
    {
     "name": "stdout",
     "output_type": "stream",
     "text": [
      "Epoch 1/30\n",
      "2459/2459 [==============================] - 39s 16ms/step - loss: 0.0869 - mean_squared_error: 0.0869\n",
      "Epoch 2/30\n",
      "2459/2459 [==============================] - 36s 15ms/step - loss: 0.0755 - mean_squared_error: 0.0755\n",
      "Epoch 3/30\n",
      "2459/2459 [==============================] - 37s 15ms/step - loss: 0.0723 - mean_squared_error: 0.0723\n",
      "Epoch 4/30\n",
      "2459/2459 [==============================] - 38s 15ms/step - loss: 0.0708 - mean_squared_error: 0.0708\n",
      "Epoch 5/30\n",
      "2459/2459 [==============================] - 38s 15ms/step - loss: 0.0682 - mean_squared_error: 0.0682\n",
      "Epoch 6/30\n",
      "2459/2459 [==============================] - 38s 15ms/step - loss: 0.0670 - mean_squared_error: 0.0670\n",
      "Epoch 7/30\n",
      "2459/2459 [==============================] - 36s 15ms/step - loss: 0.0658 - mean_squared_error: 0.0658\n",
      "Epoch 8/30\n",
      "2459/2459 [==============================] - 40s 16ms/step - loss: 0.0654 - mean_squared_error: 0.0654\n",
      "Epoch 9/30\n",
      "2459/2459 [==============================] - 38s 15ms/step - loss: 0.0651 - mean_squared_error: 0.0651\n",
      "Epoch 10/30\n",
      "2459/2459 [==============================] - 37s 15ms/step - loss: 0.0648 - mean_squared_error: 0.0648\n",
      "Epoch 11/30\n",
      "2459/2459 [==============================] - 37s 15ms/step - loss: 0.0642 - mean_squared_error: 0.0642\n",
      "Epoch 12/30\n",
      "2459/2459 [==============================] - 36s 15ms/step - loss: 0.0636 - mean_squared_error: 0.0636\n",
      "Epoch 13/30\n",
      "2459/2459 [==============================] - 38s 16ms/step - loss: 0.0633 - mean_squared_error: 0.0633\n",
      "Epoch 14/30\n",
      "2459/2459 [==============================] - 37s 15ms/step - loss: 0.0630 - mean_squared_error: 0.0630\n",
      "Epoch 15/30\n",
      "2459/2459 [==============================] - 37s 15ms/step - loss: 0.0628 - mean_squared_error: 0.0628\n",
      "Epoch 16/30\n",
      "2459/2459 [==============================] - 37s 15ms/step - loss: 0.0624 - mean_squared_error: 0.0624\n",
      "Epoch 17/30\n",
      "2459/2459 [==============================] - 37s 15ms/step - loss: 0.0624 - mean_squared_error: 0.0624\n",
      "Epoch 18/30\n",
      "2459/2459 [==============================] - 36s 15ms/step - loss: 0.0619 - mean_squared_error: 0.0619\n",
      "Epoch 19/30\n",
      "2459/2459 [==============================] - 37s 15ms/step - loss: 0.0617 - mean_squared_error: 0.0617\n",
      "Epoch 20/30\n",
      "2459/2459 [==============================] - 37s 15ms/step - loss: 0.0615 - mean_squared_error: 0.0615\n",
      "Epoch 21/30\n",
      "2459/2459 [==============================] - 36s 15ms/step - loss: 0.0615 - mean_squared_error: 0.0615\n",
      "Epoch 22/30\n",
      "2459/2459 [==============================] - 36s 15ms/step - loss: 0.0615 - mean_squared_error: 0.0615\n",
      "Epoch 23/30\n",
      "2459/2459 [==============================] - 37s 15ms/step - loss: 0.0612 - mean_squared_error: 0.0612\n",
      "Epoch 24/30\n",
      "1536/2459 [=================>............] - ETA: 13s - loss: 0.0632 - mean_squared_error: 0.0632"
     ]
    },
    {
     "ename": "KeyboardInterrupt",
     "evalue": "",
     "output_type": "error",
     "traceback": [
      "\u001b[1;31m---------------------------------------------------------------------------\u001b[0m",
      "\u001b[1;31mKeyboardInterrupt\u001b[0m                         Traceback (most recent call last)",
      "\u001b[1;32m<ipython-input-6-a666f4207204>\u001b[0m in \u001b[0;36m<module>\u001b[1;34m\u001b[0m\n\u001b[1;32m----> 1\u001b[1;33m \u001b[0mmodel1\u001b[0m\u001b[1;33m.\u001b[0m\u001b[0mfit\u001b[0m\u001b[1;33m(\u001b[0m\u001b[0mX_TRAIN\u001b[0m\u001b[1;33m,\u001b[0m \u001b[0mY_TRAIN\u001b[0m\u001b[1;33m,\u001b[0m \u001b[0mepochs\u001b[0m \u001b[1;33m=\u001b[0m \u001b[1;36m30\u001b[0m \u001b[1;33m,\u001b[0m \u001b[0mbatch_size\u001b[0m \u001b[1;33m=\u001b[0m \u001b[1;36m128\u001b[0m\u001b[1;33m)\u001b[0m\u001b[1;33m\u001b[0m\u001b[1;33m\u001b[0m\u001b[0m\n\u001b[0m",
      "\u001b[1;32mC:\\Anaconda3\\lib\\site-packages\\keras\\engine\\training.py\u001b[0m in \u001b[0;36mfit\u001b[1;34m(self, x, y, batch_size, epochs, verbose, callbacks, validation_split, validation_data, shuffle, class_weight, sample_weight, initial_epoch, steps_per_epoch, validation_steps, **kwargs)\u001b[0m\n\u001b[0;32m   1037\u001b[0m                                         \u001b[0minitial_epoch\u001b[0m\u001b[1;33m=\u001b[0m\u001b[0minitial_epoch\u001b[0m\u001b[1;33m,\u001b[0m\u001b[1;33m\u001b[0m\u001b[1;33m\u001b[0m\u001b[0m\n\u001b[0;32m   1038\u001b[0m                                         \u001b[0msteps_per_epoch\u001b[0m\u001b[1;33m=\u001b[0m\u001b[0msteps_per_epoch\u001b[0m\u001b[1;33m,\u001b[0m\u001b[1;33m\u001b[0m\u001b[1;33m\u001b[0m\u001b[0m\n\u001b[1;32m-> 1039\u001b[1;33m                                         validation_steps=validation_steps)\n\u001b[0m\u001b[0;32m   1040\u001b[0m \u001b[1;33m\u001b[0m\u001b[0m\n\u001b[0;32m   1041\u001b[0m     def evaluate(self, x=None, y=None,\n",
      "\u001b[1;32mC:\\Anaconda3\\lib\\site-packages\\keras\\engine\\training_arrays.py\u001b[0m in \u001b[0;36mfit_loop\u001b[1;34m(model, f, ins, out_labels, batch_size, epochs, verbose, callbacks, val_f, val_ins, shuffle, callback_metrics, initial_epoch, steps_per_epoch, validation_steps)\u001b[0m\n\u001b[0;32m    197\u001b[0m                     \u001b[0mins_batch\u001b[0m\u001b[1;33m[\u001b[0m\u001b[0mi\u001b[0m\u001b[1;33m]\u001b[0m \u001b[1;33m=\u001b[0m \u001b[0mins_batch\u001b[0m\u001b[1;33m[\u001b[0m\u001b[0mi\u001b[0m\u001b[1;33m]\u001b[0m\u001b[1;33m.\u001b[0m\u001b[0mtoarray\u001b[0m\u001b[1;33m(\u001b[0m\u001b[1;33m)\u001b[0m\u001b[1;33m\u001b[0m\u001b[1;33m\u001b[0m\u001b[0m\n\u001b[0;32m    198\u001b[0m \u001b[1;33m\u001b[0m\u001b[0m\n\u001b[1;32m--> 199\u001b[1;33m                 \u001b[0mouts\u001b[0m \u001b[1;33m=\u001b[0m \u001b[0mf\u001b[0m\u001b[1;33m(\u001b[0m\u001b[0mins_batch\u001b[0m\u001b[1;33m)\u001b[0m\u001b[1;33m\u001b[0m\u001b[1;33m\u001b[0m\u001b[0m\n\u001b[0m\u001b[0;32m    200\u001b[0m                 \u001b[0mouts\u001b[0m \u001b[1;33m=\u001b[0m \u001b[0mto_list\u001b[0m\u001b[1;33m(\u001b[0m\u001b[0mouts\u001b[0m\u001b[1;33m)\u001b[0m\u001b[1;33m\u001b[0m\u001b[1;33m\u001b[0m\u001b[0m\n\u001b[0;32m    201\u001b[0m                 \u001b[1;32mfor\u001b[0m \u001b[0ml\u001b[0m\u001b[1;33m,\u001b[0m \u001b[0mo\u001b[0m \u001b[1;32min\u001b[0m \u001b[0mzip\u001b[0m\u001b[1;33m(\u001b[0m\u001b[0mout_labels\u001b[0m\u001b[1;33m,\u001b[0m \u001b[0mouts\u001b[0m\u001b[1;33m)\u001b[0m\u001b[1;33m:\u001b[0m\u001b[1;33m\u001b[0m\u001b[1;33m\u001b[0m\u001b[0m\n",
      "\u001b[1;32mC:\\Anaconda3\\lib\\site-packages\\keras\\backend\\tensorflow_backend.py\u001b[0m in \u001b[0;36m__call__\u001b[1;34m(self, inputs)\u001b[0m\n\u001b[0;32m   2713\u001b[0m                 \u001b[1;32mreturn\u001b[0m \u001b[0mself\u001b[0m\u001b[1;33m.\u001b[0m\u001b[0m_legacy_call\u001b[0m\u001b[1;33m(\u001b[0m\u001b[0minputs\u001b[0m\u001b[1;33m)\u001b[0m\u001b[1;33m\u001b[0m\u001b[1;33m\u001b[0m\u001b[0m\n\u001b[0;32m   2714\u001b[0m \u001b[1;33m\u001b[0m\u001b[0m\n\u001b[1;32m-> 2715\u001b[1;33m             \u001b[1;32mreturn\u001b[0m \u001b[0mself\u001b[0m\u001b[1;33m.\u001b[0m\u001b[0m_call\u001b[0m\u001b[1;33m(\u001b[0m\u001b[0minputs\u001b[0m\u001b[1;33m)\u001b[0m\u001b[1;33m\u001b[0m\u001b[1;33m\u001b[0m\u001b[0m\n\u001b[0m\u001b[0;32m   2716\u001b[0m         \u001b[1;32melse\u001b[0m\u001b[1;33m:\u001b[0m\u001b[1;33m\u001b[0m\u001b[1;33m\u001b[0m\u001b[0m\n\u001b[0;32m   2717\u001b[0m             \u001b[1;32mif\u001b[0m \u001b[0mpy_any\u001b[0m\u001b[1;33m(\u001b[0m\u001b[0mis_tensor\u001b[0m\u001b[1;33m(\u001b[0m\u001b[0mx\u001b[0m\u001b[1;33m)\u001b[0m \u001b[1;32mfor\u001b[0m \u001b[0mx\u001b[0m \u001b[1;32min\u001b[0m \u001b[0minputs\u001b[0m\u001b[1;33m)\u001b[0m\u001b[1;33m:\u001b[0m\u001b[1;33m\u001b[0m\u001b[1;33m\u001b[0m\u001b[0m\n",
      "\u001b[1;32mC:\\Anaconda3\\lib\\site-packages\\keras\\backend\\tensorflow_backend.py\u001b[0m in \u001b[0;36m_call\u001b[1;34m(self, inputs)\u001b[0m\n\u001b[0;32m   2673\u001b[0m             \u001b[0mfetched\u001b[0m \u001b[1;33m=\u001b[0m \u001b[0mself\u001b[0m\u001b[1;33m.\u001b[0m\u001b[0m_callable_fn\u001b[0m\u001b[1;33m(\u001b[0m\u001b[1;33m*\u001b[0m\u001b[0marray_vals\u001b[0m\u001b[1;33m,\u001b[0m \u001b[0mrun_metadata\u001b[0m\u001b[1;33m=\u001b[0m\u001b[0mself\u001b[0m\u001b[1;33m.\u001b[0m\u001b[0mrun_metadata\u001b[0m\u001b[1;33m)\u001b[0m\u001b[1;33m\u001b[0m\u001b[1;33m\u001b[0m\u001b[0m\n\u001b[0;32m   2674\u001b[0m         \u001b[1;32melse\u001b[0m\u001b[1;33m:\u001b[0m\u001b[1;33m\u001b[0m\u001b[1;33m\u001b[0m\u001b[0m\n\u001b[1;32m-> 2675\u001b[1;33m             \u001b[0mfetched\u001b[0m \u001b[1;33m=\u001b[0m \u001b[0mself\u001b[0m\u001b[1;33m.\u001b[0m\u001b[0m_callable_fn\u001b[0m\u001b[1;33m(\u001b[0m\u001b[1;33m*\u001b[0m\u001b[0marray_vals\u001b[0m\u001b[1;33m)\u001b[0m\u001b[1;33m\u001b[0m\u001b[1;33m\u001b[0m\u001b[0m\n\u001b[0m\u001b[0;32m   2676\u001b[0m         \u001b[1;32mreturn\u001b[0m \u001b[0mfetched\u001b[0m\u001b[1;33m[\u001b[0m\u001b[1;33m:\u001b[0m\u001b[0mlen\u001b[0m\u001b[1;33m(\u001b[0m\u001b[0mself\u001b[0m\u001b[1;33m.\u001b[0m\u001b[0moutputs\u001b[0m\u001b[1;33m)\u001b[0m\u001b[1;33m]\u001b[0m\u001b[1;33m\u001b[0m\u001b[1;33m\u001b[0m\u001b[0m\n\u001b[0;32m   2677\u001b[0m \u001b[1;33m\u001b[0m\u001b[0m\n",
      "\u001b[1;32mC:\\Anaconda3\\lib\\site-packages\\tensorflow\\python\\client\\session.py\u001b[0m in \u001b[0;36m__call__\u001b[1;34m(self, *args, **kwargs)\u001b[0m\n\u001b[0;32m   1437\u001b[0m           ret = tf_session.TF_SessionRunCallable(\n\u001b[0;32m   1438\u001b[0m               \u001b[0mself\u001b[0m\u001b[1;33m.\u001b[0m\u001b[0m_session\u001b[0m\u001b[1;33m.\u001b[0m\u001b[0m_session\u001b[0m\u001b[1;33m,\u001b[0m \u001b[0mself\u001b[0m\u001b[1;33m.\u001b[0m\u001b[0m_handle\u001b[0m\u001b[1;33m,\u001b[0m \u001b[0margs\u001b[0m\u001b[1;33m,\u001b[0m \u001b[0mstatus\u001b[0m\u001b[1;33m,\u001b[0m\u001b[1;33m\u001b[0m\u001b[1;33m\u001b[0m\u001b[0m\n\u001b[1;32m-> 1439\u001b[1;33m               run_metadata_ptr)\n\u001b[0m\u001b[0;32m   1440\u001b[0m         \u001b[1;32mif\u001b[0m \u001b[0mrun_metadata\u001b[0m\u001b[1;33m:\u001b[0m\u001b[1;33m\u001b[0m\u001b[1;33m\u001b[0m\u001b[0m\n\u001b[0;32m   1441\u001b[0m           \u001b[0mproto_data\u001b[0m \u001b[1;33m=\u001b[0m \u001b[0mtf_session\u001b[0m\u001b[1;33m.\u001b[0m\u001b[0mTF_GetBuffer\u001b[0m\u001b[1;33m(\u001b[0m\u001b[0mrun_metadata_ptr\u001b[0m\u001b[1;33m)\u001b[0m\u001b[1;33m\u001b[0m\u001b[1;33m\u001b[0m\u001b[0m\n",
      "\u001b[1;31mKeyboardInterrupt\u001b[0m: "
     ]
    }
   ],
   "source": [
    "model1.fit(X_TRAIN, Y_TRAIN, epochs = 30 , batch_size = 128)\n"
   ]
  },
  {
   "cell_type": "code",
   "execution_count": 199,
   "metadata": {},
   "outputs": [
    {
     "name": "stdout",
     "output_type": "stream",
     "text": [
      "_________________________________________________________________\n",
      "Layer (type)                 Output Shape              Param #   \n",
      "=================================================================\n",
      "conv2d_89 (Conv2D)           (None, 16, 509, 32)       832       \n",
      "_________________________________________________________________\n",
      "max_pooling2d_83 (MaxPooling (None, 8, 254, 32)        0         \n",
      "_________________________________________________________________\n",
      "conv2d_90 (Conv2D)           (None, 6, 252, 60)        17340     \n",
      "_________________________________________________________________\n",
      "max_pooling2d_84 (MaxPooling (None, 3, 126, 60)        0         \n",
      "_________________________________________________________________\n",
      "conv2d_91 (Conv2D)           (None, 2, 125, 60)        14460     \n",
      "_________________________________________________________________\n",
      "max_pooling2d_85 (MaxPooling (None, 1, 62, 60)         0         \n",
      "_________________________________________________________________\n",
      "flatten_33 (Flatten)         (None, 3720)              0         \n",
      "_________________________________________________________________\n",
      "dropout_62 (Dropout)         (None, 3720)              0         \n",
      "_________________________________________________________________\n",
      "dense_79 (Dense)             (None, 1999)              7438279   \n",
      "_________________________________________________________________\n",
      "dropout_63 (Dropout)         (None, 1999)              0         \n",
      "_________________________________________________________________\n",
      "dense_80 (Dense)             (None, 513)               1026000   \n",
      "=================================================================\n",
      "Total params: 8,496,911\n",
      "Trainable params: 8,496,911\n",
      "Non-trainable params: 0\n",
      "_________________________________________________________________\n"
     ]
    }
   ],
   "source": [
    "model1.summary()\n"
   ]
  },
  {
   "cell_type": "code",
   "execution_count": null,
   "metadata": {},
   "outputs": [],
   "source": [
    "# The output of the network for test_x_01\n",
    "pred1 = model1.predict(Test1_1.reshape((142,20,513,1)))\n",
    "K1 = np.multiply(np.divide(np.transpose(data1), X_t1[19:,:]),pred1)\n",
    "\n",
    "S11 = np.transpose(K1)\n",
    "stest1 = librosa.istft(S11, hop_length=512)\n",
    "librosa.output.write_wav('test_Conv2d_1.wav', stest1, sr)\n",
    "\n"
   ]
  },
  {
   "cell_type": "code",
   "execution_count": null,
   "metadata": {},
   "outputs": [],
   "source": [
    "# The output of the network for test_x_02\n",
    "pred2 = model1.predict(Test2_2.reshape((380,20,513,1)))\n",
    "K2 = np.multiply(np.divide(np.transpose(data2), X_t2[19:,:]),pred2)\n",
    "\n",
    "S12 = np.transpose(K2)\n",
    "stest2 = librosa.istft(S12, hop_length=512)\n",
    "librosa.output.write_wav('test_Conv2d_2.wav', stest2, sr)\n"
   ]
  },
  {
   "cell_type": "code",
   "execution_count": null,
   "metadata": {},
   "outputs": [],
   "source": [
    "#Calculation of SNR ratio\n",
    "\n",
    "d1=np.abs(model1.predict([X_TRAIN]))\n",
    "d1_out=np.divide(X,train_x)\n",
    "d1_out=np.multiply(d1_out,d1.transpose())"
   ]
  },
  {
   "cell_type": "code",
   "execution_count": 16,
   "metadata": {},
   "outputs": [
    {
     "data": {
      "text/plain": [
       "(13.771593570709229+4.699212908744812j)"
      ]
     },
     "execution_count": 16,
     "metadata": {},
     "output_type": "execute_result"
    }
   ],
   "source": [
    "# SNR ratio on training data\n",
    "SNR=10*np.log10(np.add.reduce(S**2,axis=None)/np.add.reduce((S-d1_out)**2, axis=None))\n",
    "SNR"
   ]
  },
  {
   "cell_type": "markdown",
   "metadata": {},
   "source": [
    "# Question 1 "
   ]
  },
  {
   "cell_type": "code",
   "execution_count": 162,
   "metadata": {},
   "outputs": [
    {
     "name": "stdout",
     "output_type": "stream",
     "text": [
      "[[ 1.1937854e-02+0.00000000e+00j  1.1326679e-02+0.00000000e+00j\n",
      "   1.1311449e-02+0.00000000e+00j ... -1.9435661e-02+0.00000000e+00j\n",
      "  -8.2834195e-03+0.00000000e+00j  2.1649147e-03+0.00000000e+00j]\n",
      " [-7.4651041e-03-7.96210970e-19j -5.8471980e-03+1.92323478e-03j\n",
      "  -4.9916869e-03+1.33694301e-03j ...  1.2399258e-02-2.94200727e-03j\n",
      "   3.2734389e-03+1.41162460e-03j  4.6770875e-03-1.11858710e-03j]\n",
      " [ 2.1543016e-03+1.74065271e-19j -3.9865682e-04-1.69004453e-03j\n",
      "  -4.4653739e-04-3.15565290e-03j ... -3.0208891e-03-6.29775343e-04j\n",
      "   3.8380092e-03+1.11574605e-02j -9.1405194e-03+8.48239847e-03j]\n",
      " ...\n",
      " [ 3.9365393e-04-1.74065271e-19j -7.1495574e-06+1.27830135e-03j\n",
      "   8.8752218e-04-3.28958355e-04j ... -8.9677225e-05-9.15538869e-04j\n",
      "  -6.1033864e-04-5.72167337e-04j -4.1909068e-04-1.59045146e-03j]\n",
      " [-5.0875830e-04+1.45689667e-19j -4.1133209e-04-1.02382002e-03j\n",
      "  -9.3914056e-04+4.56958893e-04j ...  7.5799064e-04+9.61524376e-04j\n",
      "   1.8194033e-03-2.35520230e-04j -7.9286669e-04-4.51646047e-05j]\n",
      " [ 2.6081377e-04+0.00000000e+00j  6.8580982e-04+0.00000000e+00j\n",
      "   1.3386966e-03+0.00000000e+00j ... -1.4610400e-03+0.00000000e+00j\n",
      "  -2.4318073e-03+0.00000000e+00j  1.7608916e-03+0.00000000e+00j]]\n"
     ]
    }
   ],
   "source": [
    "import numpy as np\n",
    "import IPython.display as ipd\n",
    "import librosa\n",
    "s, sr=librosa.load(r'train_clean_male.wav', sr=None)\n",
    "ipd.Audio(s,rate=sr)\n",
    "\n",
    "\n",
    "S=librosa.stft(s, n_fft=1024, hop_length=512)\n",
    "sn, sr=librosa.load(r'train_dirty_male.wav', sr=None)\n",
    "X=librosa.stft(sn, n_fft=1024, hop_length=512)\n",
    "\n",
    "data, sr=librosa.load(r'test_x_01.wav', sr=None)\n",
    "data1=librosa.stft(data, n_fft=1024, hop_length=512)\n",
    "\n",
    "data_2, sr=librosa.load(r'test_x_02.wav', sr=None)\n",
    "data2=librosa.stft(data_2, n_fft=1024, hop_length=512)\n",
    "\n",
    "print(S)"
   ]
  },
  {
   "cell_type": "code",
   "execution_count": 163,
   "metadata": {},
   "outputs": [],
   "source": [
    "from keras import models\n",
    "from keras import layers"
   ]
  },
  {
   "cell_type": "code",
   "execution_count": 164,
   "metadata": {},
   "outputs": [],
   "source": [
    "train_y=np.abs(S)\n",
    "train_x=np.abs(X)\n",
    "test_x=np.abs(data1)\n",
    "test_x2=np.abs(data2)\n",
    "\n",
    "train_yt=train_y.transpose()\n",
    "train_xt=train_x.transpose()\n",
    "test_xt=test_x.transpose()\n",
    "test_xt_1=test_xt.reshape(142,513,1)\n",
    "test_x2t=test_x2.transpose()\n",
    "test_x2t_1=test_x2t.reshape(380,513,1)\n",
    "\n"
   ]
  },
  {
   "cell_type": "code",
   "execution_count": 167,
   "metadata": {},
   "outputs": [
    {
     "name": "stdout",
     "output_type": "stream",
     "text": [
      "_________________________________________________________________\n",
      "Layer (type)                 Output Shape              Param #   \n",
      "=================================================================\n",
      "input_3 (InputLayer)         (None, 513, 1)            0         \n",
      "_________________________________________________________________\n",
      "conv1d_5 (Conv1D)            (None, 512, 100)          300       \n",
      "_________________________________________________________________\n",
      "max_pooling1d_5 (MaxPooling1 (None, 511, 100)          0         \n",
      "_________________________________________________________________\n",
      "conv1d_6 (Conv1D)            (None, 510, 100)          20100     \n",
      "_________________________________________________________________\n",
      "max_pooling1d_6 (MaxPooling1 (None, 509, 100)          0         \n",
      "_________________________________________________________________\n",
      "flatten_30 (Flatten)         (None, 50900)             0         \n",
      "_________________________________________________________________\n",
      "dense_73 (Dense)             (None, 1024)              52122624  \n",
      "_________________________________________________________________\n",
      "dense_74 (Dense)             (None, 513)               525825    \n",
      "=================================================================\n",
      "Total params: 52,668,849\n",
      "Trainable params: 52,668,849\n",
      "Non-trainable params: 0\n",
      "_________________________________________________________________\n",
      "None\n"
     ]
    }
   ],
   "source": [
    "from keras.models import Model\n",
    "from keras.layers import Conv1D, Dense, MaxPool1D, Flatten, Input\n",
    "import numpy as np\n",
    "\n",
    "inp =  Input(shape=(513, 1))\n",
    "conv = Conv1D(filters=100, kernel_size=2,activation='relu',strides=1, padding='valid',)(inp)\n",
    "pool = MaxPool1D(pool_size=2,strides=1, padding='valid',)(conv)\n",
    "conv = Conv1D(filters=100, kernel_size=2,activation='relu',strides=1, padding='valid',)(pool)\n",
    "pool=MaxPool1D(pool_size=2,strides=1, padding='valid',)(conv)\n",
    "flat = Flatten()(pool)\n",
    "dense = Dense(1024,activation='relu')(flat)\n",
    "dense=Dense(513,activation='relu')(dense)\n",
    "model = Model(inp, dense)\n",
    "\n",
    "model.compile(optimizer='adam',loss='mean_squared_error',metrics=['mse'])\n",
    "print(model.summary())"
   ]
  },
  {
   "cell_type": "code",
   "execution_count": 169,
   "metadata": {},
   "outputs": [
    {
     "name": "stdout",
     "output_type": "stream",
     "text": [
      "Epoch 1/40\n",
      "2459/2459 [==============================] - 20s 8ms/step - loss: 0.0058 - mean_squared_error: 0.0058\n",
      "Epoch 2/40\n",
      "2459/2459 [==============================] - 20s 8ms/step - loss: 0.0068 - mean_squared_error: 0.0068\n",
      "Epoch 3/40\n",
      "2459/2459 [==============================] - 20s 8ms/step - loss: 0.0079 - mean_squared_error: 0.0079\n",
      "Epoch 4/40\n",
      "2459/2459 [==============================] - 20s 8ms/step - loss: 0.0094 - mean_squared_error: 0.0094\n",
      "Epoch 5/40\n",
      "2459/2459 [==============================] - 20s 8ms/step - loss: 0.0077 - mean_squared_error: 0.0077\n",
      "Epoch 6/40\n",
      "2459/2459 [==============================] - 21s 8ms/step - loss: 0.0059 - mean_squared_error: 0.0059\n",
      "Epoch 7/40\n",
      "2459/2459 [==============================] - 21s 8ms/step - loss: 0.0051 - mean_squared_error: 0.0051\n",
      "Epoch 8/40\n",
      "2459/2459 [==============================] - 21s 8ms/step - loss: 0.0046 - mean_squared_error: 0.0046\n",
      "Epoch 9/40\n",
      "2459/2459 [==============================] - 21s 8ms/step - loss: 0.0042 - mean_squared_error: 0.0042\n",
      "Epoch 10/40\n",
      "2459/2459 [==============================] - 20s 8ms/step - loss: 0.0038 - mean_squared_error: 0.0038\n",
      "Epoch 11/40\n",
      "2459/2459 [==============================] - 21s 8ms/step - loss: 0.0037 - mean_squared_error: 0.0037\n",
      "Epoch 12/40\n",
      "2459/2459 [==============================] - 20s 8ms/step - loss: 0.0037 - mean_squared_error: 0.0037\n",
      "Epoch 13/40\n",
      "2459/2459 [==============================] - 20s 8ms/step - loss: 0.0036 - mean_squared_error: 0.0036\n",
      "Epoch 14/40\n",
      "2459/2459 [==============================] - 21s 8ms/step - loss: 0.0035 - mean_squared_error: 0.0035\n",
      "Epoch 15/40\n",
      "2459/2459 [==============================] - 20s 8ms/step - loss: 0.0036 - mean_squared_error: 0.0036\n",
      "Epoch 16/40\n",
      "2459/2459 [==============================] - 21s 8ms/step - loss: 0.0035 - mean_squared_error: 0.0035\n",
      "Epoch 17/40\n",
      "2459/2459 [==============================] - 20s 8ms/step - loss: 0.0034 - mean_squared_error: 0.0034\n",
      "Epoch 18/40\n",
      "2459/2459 [==============================] - 21s 8ms/step - loss: 0.0035 - mean_squared_error: 0.0035\n",
      "Epoch 19/40\n",
      "2459/2459 [==============================] - 21s 8ms/step - loss: 0.0034 - mean_squared_error: 0.0034\n",
      "Epoch 20/40\n",
      "2459/2459 [==============================] - 21s 8ms/step - loss: 0.0034 - mean_squared_error: 0.0034\n",
      "Epoch 21/40\n",
      "2459/2459 [==============================] - 20s 8ms/step - loss: 0.0034 - mean_squared_error: 0.0034\n",
      "Epoch 22/40\n",
      "2459/2459 [==============================] - 21s 8ms/step - loss: 0.0033 - mean_squared_error: 0.0033\n",
      "Epoch 23/40\n",
      "2459/2459 [==============================] - 21s 8ms/step - loss: 0.0033 - mean_squared_error: 0.0033\n",
      "Epoch 24/40\n",
      "2459/2459 [==============================] - 21s 8ms/step - loss: 0.0031 - mean_squared_error: 0.0031\n",
      "Epoch 25/40\n",
      "2459/2459 [==============================] - 21s 8ms/step - loss: 0.0029 - mean_squared_error: 0.0029\n",
      "Epoch 26/40\n",
      "2459/2459 [==============================] - 21s 8ms/step - loss: 0.0029 - mean_squared_error: 0.0029\n",
      "Epoch 27/40\n",
      "2459/2459 [==============================] - 20s 8ms/step - loss: 0.0030 - mean_squared_error: 0.0030\n",
      "Epoch 28/40\n",
      "2459/2459 [==============================] - 21s 8ms/step - loss: 0.0029 - mean_squared_error: 0.0029\n",
      "Epoch 29/40\n",
      "2459/2459 [==============================] - 21s 8ms/step - loss: 0.0032 - mean_squared_error: 0.0032\n",
      "Epoch 30/40\n",
      "2459/2459 [==============================] - 21s 8ms/step - loss: 0.0043 - mean_squared_error: 0.0043\n",
      "Epoch 31/40\n",
      "2459/2459 [==============================] - 21s 8ms/step - loss: 0.0039 - mean_squared_error: 0.0039\n",
      "Epoch 32/40\n",
      "2459/2459 [==============================] - 21s 8ms/step - loss: 0.0037 - mean_squared_error: 0.0037\n",
      "Epoch 33/40\n",
      "2459/2459 [==============================] - 20s 8ms/step - loss: 0.0036 - mean_squared_error: 0.0036\n",
      "Epoch 34/40\n",
      "2459/2459 [==============================] - 21s 8ms/step - loss: 0.0036 - mean_squared_error: 0.0036\n",
      "Epoch 35/40\n",
      "2459/2459 [==============================] - 20s 8ms/step - loss: 0.0032 - mean_squared_error: 0.0032\n",
      "Epoch 36/40\n",
      "2459/2459 [==============================] - 20s 8ms/step - loss: 0.0030 - mean_squared_error: 0.0030\n",
      "Epoch 37/40\n",
      "2459/2459 [==============================] - 20s 8ms/step - loss: 0.0029 - mean_squared_error: 0.0029\n",
      "Epoch 38/40\n",
      "2459/2459 [==============================] - 21s 8ms/step - loss: 0.0029 - mean_squared_error: 0.0029\n",
      "Epoch 39/40\n",
      "2459/2459 [==============================] - 21s 8ms/step - loss: 0.0031 - mean_squared_error: 0.0031\n",
      "Epoch 40/40\n",
      "2459/2459 [==============================] - 21s 9ms/step - loss: 0.0030 - mean_squared_error: 0.0030\n",
      "(2459, 513, 1)\n"
     ]
    }
   ],
   "source": [
    "train_xt=train_xt.reshape(2459,513,1)\n",
    "model.fit(train_xt,train_yt,epochs=40,batch_size=100)\n",
    "print(train_xt.shape)"
   ]
  },
  {
   "cell_type": "code",
   "execution_count": 175,
   "metadata": {},
   "outputs": [
    {
     "name": "stdout",
     "output_type": "stream",
     "text": [
      "Epoch 1/10\n",
      "2459/2459 [==============================] - 20s 8ms/step - loss: 0.0023 - mean_squared_error: 0.0023\n",
      "Epoch 2/10\n",
      "2459/2459 [==============================] - 20s 8ms/step - loss: 0.0024 - mean_squared_error: 0.0024\n",
      "Epoch 3/10\n",
      "2459/2459 [==============================] - 20s 8ms/step - loss: 0.0024 - mean_squared_error: 0.0024\n",
      "Epoch 4/10\n",
      "2459/2459 [==============================] - 20s 8ms/step - loss: 0.0024 - mean_squared_error: 0.0024\n",
      "Epoch 5/10\n",
      "2459/2459 [==============================] - 20s 8ms/step - loss: 0.0024 - mean_squared_error: 0.0024\n",
      "Epoch 6/10\n",
      "2459/2459 [==============================] - 20s 8ms/step - loss: 0.0024 - mean_squared_error: 0.0024\n",
      "Epoch 7/10\n",
      "2459/2459 [==============================] - 20s 8ms/step - loss: 0.0024 - mean_squared_error: 0.0024\n",
      "Epoch 8/10\n",
      "2459/2459 [==============================] - 20s 8ms/step - loss: 0.0027 - mean_squared_error: 0.0027\n",
      "Epoch 9/10\n",
      "2459/2459 [==============================] - 21s 8ms/step - loss: 0.0024 - mean_squared_error: 0.0024\n",
      "Epoch 10/10\n",
      "2459/2459 [==============================] - 21s 8ms/step - loss: 0.0027 - mean_squared_error: 0.0027\n"
     ]
    },
    {
     "data": {
      "text/plain": [
       "<keras.callbacks.History at 0x1bdc6c48780>"
      ]
     },
     "execution_count": 175,
     "metadata": {},
     "output_type": "execute_result"
    }
   ],
   "source": [
    "model.fit(train_xt,train_yt,epochs=10,batch_size=100)"
   ]
  },
  {
   "cell_type": "code",
   "execution_count": 193,
   "metadata": {},
   "outputs": [],
   "source": [
    "# The output of the network for test_x_01\n",
    "Stest = np.abs(model.predict([test_xt_1]))\n",
    "\n",
    "\n",
    "\n",
    "k=np.divide(data1,test_x)\n",
    "S1=np.multiply(k,Stest.transpose())\n",
    "\n",
    "\n",
    "# Inverse of STFT for test_x_01\n",
    "\n",
    "stest=librosa.istft(S1, hop_length=512)\n",
    "\n",
    "# output file of the recorded voice for test_x_01\n",
    "\n",
    "librosa.output.write_wav('test_Conv1d_1.wav', stest,sr)"
   ]
  },
  {
   "cell_type": "code",
   "execution_count": 194,
   "metadata": {},
   "outputs": [],
   "source": [
    "#2nd test data \n",
    "Stest = np.abs(model.predict([test_x2t_1]))\n",
    "\n",
    "\n",
    "\n",
    "k=np.divide(data2,test_x2)\n",
    "S1=np.multiply(k,Stest.transpose())\n",
    "\n",
    "\n",
    "# Inverse of STFT for test_x_01\n",
    "\n",
    "stest=librosa.istft(S1, hop_length=512)\n",
    "\n",
    "# output file of the recorded voice for test_x_02\n",
    "\n",
    "librosa.output.write_wav('test_Conv1d_2.wav', stest,sr)"
   ]
  },
  {
   "cell_type": "code",
   "execution_count": 173,
   "metadata": {},
   "outputs": [],
   "source": [
    "#Calculation of SNR ratio\n",
    "train_xt=train_xt.reshape(2459,513,1)\n",
    "d=np.abs(model.predict([train_xt]))\n",
    "d_out=np.divide(X,train_x)\n",
    "d_out=np.multiply(d_out,d.transpose())"
   ]
  },
  {
   "cell_type": "code",
   "execution_count": 174,
   "metadata": {},
   "outputs": [
    {
     "data": {
      "text/plain": [
       "(18.752959966659546+11.874995231628418j)"
      ]
     },
     "execution_count": 174,
     "metadata": {},
     "output_type": "execute_result"
    }
   ],
   "source": [
    "# SNR ratio on training data\n",
    "SNR=10*np.log10(np.add.reduce(S**2,axis=None)/np.add.reduce((S-d_out)**2, axis=None))\n",
    "SNR"
   ]
  },
  {
   "cell_type": "code",
   "execution_count": null,
   "metadata": {},
   "outputs": [],
   "source": []
  }
 ],
 "metadata": {
  "kernelspec": {
   "display_name": "Python 3",
   "language": "python",
   "name": "python3"
  },
  "language_info": {
   "codemirror_mode": {
    "name": "ipython",
    "version": 3
   },
   "file_extension": ".py",
   "mimetype": "text/x-python",
   "name": "python",
   "nbconvert_exporter": "python",
   "pygments_lexer": "ipython3",
   "version": "3.6.8"
  }
 },
 "nbformat": 4,
 "nbformat_minor": 2
}
