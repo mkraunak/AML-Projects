{
 "cells": [
  {
   "cell_type": "markdown",
   "metadata": {
    "colab_type": "text",
    "id": "Wqg21c05IrtK"
   },
   "source": [
    "# CSCI-P556\n",
    "## Assignment 1\n",
    "### Due date: 5:30PM, September 26, 2018\n",
    "\n",
    "\n",
    "---\n",
    "\n"
   ]
  },
  {
   "cell_type": "markdown",
   "metadata": {
    "colab_type": "text",
    "id": "qoac1eEaDJPA"
   },
   "source": [
    "## Question 1: Binary Classification (35 points)\n",
    "\n",
    "Consider the binary classification problem of mapping a given input to two classes. Let $\\mathcal{X}=\\mathbb{R}^d$ and $\\mathcal{Y}=\\{+1, -1\\}$ be the input space and output space, respectively. In simple words, it means that the input has $d$ features and all of them are real valued, whereas the output can only take values $-1$ or $+1$. This is one of the most common problems in machine learning and many sophisticated methods exist to solve it. In the question, we will solve it using the concepts we have already learned in class. Like we did in linear regression, let us assume the two sets of points can be separated using a straight line i.e. the samples are linearly separable. So if $d=2$, one should be able to draw a line to distinguish between the two classes. All points lying on side of the line should belong to a particular class (say $1$) and the points lying on the other side should belong to another class (say $2$). To see what this would look like,  your first task is as follows:\n",
    "\n",
    "### Task 1\n",
    "Write a function that will randomly generate a dataset for this problem. Your function should randomly choose a line $l$, which can be denoted as $ax + by + c = 0$. According to basic high school geometry, the line divides the plane into two sides. On one side, $ax+by+c>0$ while on the other $ax+by+c<0$. Use this fact to randomly generate $k_0$ points on the side of class 0 and $k_1$ points on the side of class 1. Use the function you wrote in the previous assignment to plot this dataset!"
   ]
  },
  {
   "cell_type": "code",
   "execution_count": 1,
   "metadata": {
    "colab": {},
    "colab_type": "code",
    "id": "jJK-_b2dNKwl"
   },
   "outputs": [],
   "source": [
    "#k0 and k1 randomly generated integers between the value 1 and 100\n",
    "#they are the inputs to the function\n",
    "#Randomly generate the coeficent of the lines a,b,c and x. and then calculate y\n",
    "# randomly generate k0 points belowthe line for this -(ax+c)/b<0\n",
    "# randomly generate k1 points belowthe line for this -(ax+c)/b>0\n",
    "#Then plot the lines\n",
    "\n",
    "import numpy as np\n",
    "import matplotlib.pyplot as plt\n",
    "\n",
    "def generate_dataset(k0, k1):\n",
    "    \"\"\"\n",
    "    Your code for generating the dataset goes here! The output should X and y.\n",
    "    You should call the visualization function from this function. Every time we \n",
    "    run this cell, it should plot a new dataset along with the line which was used\n",
    "    to generate that dataset. We will test this by changing the values of k and\n",
    "    running the cell multiple times\n",
    "    \"\"\"\n",
    "    a = np.random.uniform(-100,100)\n",
    "    b = np.random.uniform(-100,100)\n",
    "    c = np.random.uniform(-100,100)  \n",
    "    x = np.random.uniform(-100,100,k0+k1)\n",
    "    x0=[]\n",
    "    x1=[]\n",
    "    y= []\n",
    "    y0=[]\n",
    "    y1=[]\n",
    "    Y=[]\n",
    "    \n",
    "    for i in range (len(x)):\n",
    "            \n",
    "            y.append(-(a*x[i]+c)/b)\n",
    "            \n",
    "    for i in range (k0):\n",
    "            n0 = np.random.uniform(-100,-10)\n",
    "            x0.append(x[i])\n",
    "            y0.append(n0-((a*x[i]+c)/b))\n",
    "            Y.append(1)\n",
    "           \n",
    "    for i in range (k0,k0+k1):\n",
    "            n1 = np.random.uniform(10,100)    \n",
    "            x1.append(x[i])\n",
    "            y1.append(n1-((a*x[i]+c)/b))\n",
    "            Y.append(-1)\n",
    "            \n",
    "    l0= np.array((x0,y0)).T\n",
    "    l1= np.array((x1,y1)).T\n",
    "   # print(l0)\n",
    "    #print(l1)\n",
    "    X= np.concatenate((l0,l1))\n",
    "    plotLineAndPoints(l0,l1,(a,b,c))\n",
    "   # print(X)\n",
    "    return (X,Y)\n",
    "\n",
    "def plotLineAndPoints(l1,l2,*l3):\n",
    "  # Your code goes here\n",
    "    x1=[]\n",
    "    y1=[]\n",
    "    x2=[]\n",
    "    y2=[]\n",
    "    x = np.random.uniform(-100,100,100)\n",
    "    y=[]\n",
    "    for i in range(len(l1)):\n",
    "        x1.append(l1[i][0])\n",
    "        y1.append(l1[i][1])\n",
    "\n",
    "    plt.plot(x1,y1,'r+',label=\"class0\")\n",
    "\n",
    "    for j in range(len(l2)):\n",
    "        x2.append(l2[j][0])\n",
    "        y2.append(l2[j][1])\n",
    "\n",
    "    plt.plot(x2,y2,'bo',label=\"class1\")\n",
    "    if(len(l3)!=0):\n",
    "        a=l3[0][0]\n",
    "        b=l3[0][1]\n",
    "        c=l3[0][2]\n",
    "        for i in range (len(x)):\n",
    "            y.append(-(a*x[i]+c)/b)\n",
    "\n",
    "    plt.plot(x,y,'g',label=\"line\")\n",
    "    plt.ylabel('Y axis')\n",
    "    plt.xlabel('X axis')\n",
    "    plt.title('X Vs Y')\n",
    "    plt.legend()\n",
    "   \n",
    "\n",
    "\n",
    "    # 3 points below line \n",
    "    # 2 points above line\n",
    "k0 = np.random.randint(1,100)\n",
    "k1 = np.random.randint(1,100)\n",
    "(X,Y) =generate_dataset(k0,k1)\n"
   ]
  },
  {
   "cell_type": "markdown",
   "metadata": {
    "colab_type": "text",
    "id": "M9u1MV7ANqWV"
   },
   "source": [
    "### Task 2\n",
    "\n",
    "When you are given a dataset for which you do not have access the the target function $f$ which maps $\\mathcal{X}$ to $\\mathcal{Y}$. You learn it from the data. In this problem, it is akin to learning the parameters of the line that separates the two classes. The same line above can be represented as $$\\sum_{i=0}^d w_i x_i = 0$$\n",
    "Notice that $i$ starts from $0$, instead of $1$. Can you think of why?\n",
    "\n",
    "The goal here is to correctly find out $\\bf{w}$. The algorithm to find it is a simple iterative process. \n",
    "1. Randomly choose a $w$ to begin with.\n",
    "2. Keep on adjusting the value of $\\bf{w}$ as follows until all data samples are correctly classified:\n",
    "3. Randomly choose a sample from the dataset and see if it is correctly classified. If yes,  move on to another sample.\n",
    "4. If not,  then  update the weights as $\\mathbf{w}^{t+1} = \\mathbf{w}^t + y \\cdot \\mathbf{x}$ , where \n",
    "    *   $\\mathbf{w}^{t+1}$ is value of $\\mathbf{w}$ at iteration $t+1$\n",
    "    *   $\\mathbf{w}^{t}$ is value of $\\mathbf{w}$ at iteration $t$\n",
    "    *  $y$ is the class label for the sample under consideration\n",
    "    * $\\mathbf{x}$ is the data-point under consideration\n",
    "    \n",
    "    \n",
    "Write a function that implements this learning algorithm. The input to the function is going to be a dataset represented by the input variable $X$ and the target variable $y$. The output of the function should be the chosen $\\mathbf{w}$.\n",
    "\n",
    "\n",
    "\n"
   ]
  },
  {
   "cell_type": "code",
   "execution_count": 7,
   "metadata": {
    "colab": {},
    "colab_type": "code",
    "id": "-IQCxqfcbN2i"
   },
   "outputs": [
    {
     "data": {
      "text/plain": [
       "array([  74.28743509, -161.31947315, -254.71164451])"
      ]
     },
     "execution_count": 7,
     "metadata": {},
     "output_type": "execute_result"
    },
    {
     "data": {
      "image/png": "[encoded data removed]",
      "text/plain": [
       "<Figure size 432x288 with 1 Axes>"
      ]
     },
     "metadata": {},
     "output_type": "display_data"
    }
   ],
   "source": [
    "#The function fit takes input X and Y\n",
    "# where X is an array of points and Y specifies the class(0 or 1)\n",
    "# for each point i'm summing the coef*point(w0*x0+w1*x1+w2*x2)\n",
    "# if the class is 1 then the summation should be greater > if not changing the value of w's\n",
    "#for class 0 doing the opposite\n",
    "def fit(X, y):\n",
    "    \"\"\"\n",
    "    Your code for Task 2 goes here. Apart from writing the fit function,\n",
    "    you should also write code to not plot the points in the dataset,\n",
    "    but also plot the learned line represented by w. We will test this, by running \n",
    "    the cell for task 1 (thus generating a new dataset) and then running this cell.\n",
    "    Even though the visualization of done for d=3 and 2-D points, your code should be\n",
    "    generic and be able to handle any d. This will also be tested.\n",
    "    \"\"\"\n",
    "    d=X.shape[1]\n",
    "    w = np.random.uniform(0,100,d+1)\n",
    "   # x = np.random.uniform(0,100,d)\n",
    "    X1 = np.zeros(shape=(len(X),d+1))\n",
    "    x0=[]\n",
    "    x1=[]\n",
    "    y0=[]\n",
    "    y1=[]\n",
    "    for i in range(0,len(X)):\n",
    "        for j in range (0,d+1):\n",
    "            if (j==0):\n",
    "                X1[i][j] = 1\n",
    "            else :    \n",
    "                X1[i][j]=X[i][j-1]\n",
    "    recheck = True\n",
    "    while recheck:\n",
    "        recheck = False   \n",
    "        for i in range(0,len(X1)):\n",
    "            sum=0\n",
    "            for j in range (0,d+1):\n",
    "                sum+=w[j]*X1[i][j]\n",
    "    \n",
    "            if(Y[i]==-1):\n",
    "                x1.append(X1[i][1])\n",
    "                y1.append(X1[i][2])\n",
    "                if sum>0 :\n",
    "                    temp = w +X1[i]*y[i]\n",
    "                    w= temp\n",
    "                    recheck = True\n",
    "                    break\n",
    "\n",
    "            if(Y[i]==1):\n",
    "                x0.append(X1[i][1])\n",
    "                y0.append(X1[i][2])\n",
    "                if sum<0 :\n",
    "                    temp =w+ X1[i]*y[i]\n",
    "               #     print(\"looo:\",w)\n",
    "                    w= temp\n",
    "                #    print(\"new w:\",w) \n",
    "                    recheck = True\n",
    "                    break\n",
    "\n",
    "       # print(sum)\n",
    "     \n",
    "    l0= np.array((x0,y0)).T\n",
    "    l1= np.array((x1,y1)).T\n",
    "#    print(l0)\n",
    " #   print(l1)\n",
    "  #  print(w[0],w[1],w[2])\n",
    "    plotLineAndPoints(l0,l1,(w[1],w[2],w[0]))\n",
    "    #pass\n",
    "    return(w)\n",
    "\n",
    "#(X,Y)= generate_dataset(80, 100)\n",
    "fit(X,Y)   "
   ]
  },
  {
   "cell_type": "markdown",
   "metadata": {
    "colab_type": "text",
    "id": "SjnYiCSSb6oc"
   },
   "source": [
    "### Task 3\n",
    "Give an intuition of why the above algorithm converges for linearly separable data? We do not expect you to give a mathematic proof, but it would be great if you can provide one. You will get full points even if you just provide an intuition of a few lines. Including figures or mathematical equations is encouraged but not required."
   ]
  },
  {
   "cell_type": "markdown",
   "metadata": {},
   "source": [
    " ### ANSWER:\n",
    " Predict \"y=1\" if aX1+bX2+c >=0 \n",
    " we know that y = 1 is more likely when g(z)>0.5 and dot(theta.T,X)>0\n",
    "\n",
    "for every point in X, i am checking if the sum of aX1+bX2+c is >0,\n",
    "if it is now then i am updating the value of w = w+x.y\n",
    "then again recheking the sum\n",
    "here the points w(a b and c) are being updated so as to satisfy the condition\n",
    "we are moving the line up\n",
    "\n",
    "for \"y=1\" aX1+bX2+c <0\n",
    "for every point in X, i am checking if the sum of aX1+bX2+c is <0,\n",
    "if not udpdate the points same as above\n",
    "weare moving the line down"
   ]
  },
  {
   "cell_type": "markdown",
   "metadata": {
    "colab_type": "text",
    "id": "WKl58tcccl4U"
   },
   "source": [
    "### Task 4\n",
    "What happens when the data is not linearly separable? What can be done to salvage the situation?"
   ]
  },
  {
   "cell_type": "markdown",
   "metadata": {},
   "source": [
    "### ANSWER:\n",
    "If the data is not linearly seperable, we can add extra higher order polynomial\n",
    "example:\n",
    "if h(x)=g(w0 + w1X1 + w2X2 + w3X1^2 + w4X2^2)\n",
    "now if by  regression we get w0=-1 w1=0 w2=0 w3=1 w4=1\n",
    "This means that hypthesis will predict 1 if\n",
    "predict y=\"1\" if -1 +X1^2 +X2^2>=0  (X1^2 +X2^2>=1)\n",
    "This is a circle with radius 1 and all points outside the circle will be y=\"1\"\n",
    "and all points inside the circle will be y=\"0\"\n"
   ]
  },
  {
   "cell_type": "markdown",
   "metadata": {
    "colab_type": "text",
    "id": "A0_H35ditn1_"
   },
   "source": [
    "## Question 2: Linear Regression (40 points)\n",
    "\n",
    "There are two ways of solving the linear regression problem. The first one is called ordinary least squares, where you learn the parameters of the model by using the closed-form differentitaion of the standard cost function. This method cannot be used if there is no closed-form solution to the derivative of the cost function. In this case, we resort to gradient descent which learn the parameters by iteratively updating them until it reaches the solution i.e. the minimum of the cost function. In this problem we are going to explore both of these implementations. \n",
    "\n",
    "Using the code that we are providing in the next few cells, you will:\n",
    "\n",
    "\n",
    "1. Implement linear regression using the ordinary least squares method\n",
    "2. Implement linear regression using gradient descent\n",
    "3. Execute both versions of the linear regression on sklearn's Boston Housing dataset. Plot your results. Which version executes faster? Explain why that is the case."
   ]
  },
  {
   "cell_type": "markdown",
   "metadata": {},
   "source": [
    "### REFERENCE : https://www.coursera.org/learn/machine-learning/home/welcome\n",
    "                     ANDEW NG"
   ]
  },
  {
   "cell_type": "markdown",
   "metadata": {},
   "source": [
    "\n",
    "### ANSWER:\n",
    "3. For the particular problem OLS is faster than gradient descent. This is beacues the size of Boston Housing dataset is only 506\n",
    "\n",
    "if the dataset had size greater than 10000 then gradient descent would have been faster than OLS\n",
    "Reason : The calculation of inv((X.T,X)) is very slow if n>10000\n"
   ]
  },
  {
   "cell_type": "code",
   "execution_count": 8,
   "metadata": {
    "colab": {},
    "colab_type": "code",
    "id": "-40QUDB_hfZ-"
   },
   "outputs": [],
   "source": [
    "def feature_normalize(X):\n",
    "    '''\n",
    "    In this function we are going to do something similar to what we did in A0, \n",
    "    we are going to normalize all the features. Implement the following steps:\n",
    "    \n",
    "    - for each feature, calculate its mean\n",
    "    - substract the mean from their respective feature\n",
    "    - save the above result in the 'mu' variable\n",
    "    \n",
    "    - for each feature, calculate its standard deviation\n",
    "    - divide each feature by its standard deviation\n",
    "    - save the above result in the 'sigma' variable\n",
    "    \n",
    "    '''\n",
    "  \n",
    "    n = X.shape[1]\n",
    "    mean = np.mean(X, axis=0)\n",
    "    mu = np.subtract(X,mean)\n",
    "    SD= np.std(X, axis=0)\n",
    "    sigma = X/SD\n",
    "    X_norm=(mu/SD)\n",
    "    print(\"Xnorm:\",X_norm)\n",
    "   \n",
    "    return X_norm, mu, sigma\n",
    "\n"
   ]
  },
  {
   "cell_type": "code",
   "execution_count": 9,
   "metadata": {
    "colab": {},
    "colab_type": "code",
    "id": "Cg-4siXinuPI"
   },
   "outputs": [],
   "source": [
    "#This is the cost function\n",
    "def cost_function(X, y, theta):\n",
    "    '''\n",
    "    In this function we are going to... you guessed it...\n",
    "    Implement the cost function!\n",
    " \n",
    "    '''\n",
    "    m = y.size\n",
    "    cost = 0\n",
    "    h0=np.dot(X,theta.T)\n",
    "    t = ((h0-y)**2)/(2*m)\n",
    "    for i in range(0, len(t)):\n",
    "        cost= cost+ t[i]\n",
    "    return cost\n",
    "\n",
    "#cost_function([3,1, y, theta)\n",
    "\n"
   ]
  },
  {
   "cell_type": "code",
   "execution_count": 10,
   "metadata": {
    "colab": {},
    "colab_type": "code",
    "id": "fx-mfDnshhVW"
   },
   "outputs": [],
   "source": [
    "#This function calculates the gradient descent -->the differnet theta values\n",
    "\n",
    "def gradient_descent(X, y, theta, learning_rate, num_iters):\n",
    "    m = y.size\n",
    "    J_history = np.zeros(num_iters)\n",
    "    temp =np.zeros(len(theta))\n",
    "    for i in range(0, num_iters):\n",
    "        '''\n",
    "        Implement gradient descent for a single gradient step on the parameter \n",
    "        vector theta. Save the result of each iteration on J_history.\n",
    "        '''\n",
    "        J_history[i] = cost_function(X, y, theta)\n",
    "        h0=np.dot(theta,X.T)\n",
    "        t=(y-h0)\n",
    "        temp =np.dot(t,X)\n",
    "        theta +=  learning_rate*temp/m\n",
    "        \n",
    "    return theta ,J_history\n"
   ]
  },
  {
   "cell_type": "code",
   "execution_count": 11,
   "metadata": {
    "colab": {},
    "colab_type": "code",
    "id": "3e0WkgewhkrY"
   },
   "outputs": [],
   "source": [
    "from numpy.linalg import inv\n",
    "def linearRegression_ols(X, y):\n",
    "    '''\n",
    "    Implement the closed-form (or ordinary least squares) solution for\n",
    "    linear regression. Save the result in the variable 'theta'.\n",
    "    More information can be found at: \n",
    "      https://en.wikipedia.org/wiki/Ordinary_least_squares\n",
    "    '''\n",
    "    theta = np.zeros((X.shape[1], 1))\n",
    "    temp0 = np.dot(X.T,X)\n",
    "    inverse = inv(temp0)\n",
    "    temp1 = np.dot(inverse,X.T)\n",
    "    theta =np.dot(temp1,y)\n",
    "    return theta"
   ]
  },
  {
   "cell_type": "code",
   "execution_count": 12,
   "metadata": {
    "colab": {},
    "colab_type": "code",
    "id": "eEHDdwBAyPen"
   },
   "outputs": [],
   "source": [
    "# load dataset\n",
    "\n",
    "from sklearn.datasets import load_boston\n",
    "dataset = load_boston()\n",
    "X = dataset.data\n",
    "y = dataset.target\n",
    "m = y.size"
   ]
  },
  {
   "cell_type": "code",
   "execution_count": 13,
   "metadata": {
    "colab": {},
    "colab_type": "code",
    "id": "ZKLNvembyR8S"
   },
   "outputs": [
    {
     "name": "stdout",
     "output_type": "stream",
     "text": [
      "Normalizing Features ...\n",
      "Xnorm: [[-0.41771335  0.28482986 -1.2879095  ... -1.45900038  0.44105193\n",
      "  -1.0755623 ]\n",
      " [-0.41526932 -0.48772236 -0.59338101 ... -0.30309415  0.44105193\n",
      "  -0.49243937]\n",
      " [-0.41527165 -0.48772236 -0.59338101 ... -0.30309415  0.39642699\n",
      "  -1.2087274 ]\n",
      " ...\n",
      " [-0.41137448 -0.48772236  0.11573841 ...  1.17646583  0.44105193\n",
      "  -0.98304761]\n",
      " [-0.40568883 -0.48772236  0.11573841 ...  1.17646583  0.4032249\n",
      "  -0.86530163]\n",
      " [-0.41292893 -0.48772236  0.11573841 ...  1.17646583  0.44105193\n",
      "  -0.66905833]]\n"
     ]
    }
   ],
   "source": [
    "# Normalize features\n",
    "print('Normalizing Features ...')\n",
    "\n",
    "X, mu, sigma = feature_normalize(X)\n",
    "X = np.c_[np.ones(m), X]  # Add a column of ones to X"
   ]
  },
  {
   "cell_type": "code",
   "execution_count": 14,
   "metadata": {
    "colab": {},
    "colab_type": "code",
    "id": "DEIeF7LZyU43"
   },
   "outputs": [
    {
     "name": "stdout",
     "output_type": "stream",
     "text": [
      "Running gradient descent ...\n",
      "Theta computed from gradient descent : \n",
      "[22.53269111 -0.80153942  0.86697613 -0.23056994  0.73597162 -1.70194762\n",
      "  2.83315488 -0.08096679 -2.85876596  1.61270393 -1.01025156 -1.97669241\n",
      "  0.8702363  -3.67513307]\n"
     ]
    },
    {
     "data": {
      "image/png": "[encoded data removed]",
      "text/plain": [
       "<Figure size 432x288 with 1 Axes>"
      ]
     },
     "metadata": {},
     "output_type": "display_data"
    }
   ],
   "source": [
    "# Now we proceed with Gradient Descent\n",
    "\n",
    "print('Running gradient descent ...')\n",
    "\n",
    "# Choose some alpha value\n",
    "alpha = 0.03\n",
    "num_iters = 400\n",
    "# Initialize theta and execute gradient descent\n",
    "theta = np.zeros(X.shape[1])\n",
    "#cost_function(X, y, theta)\n",
    "theta, J_history = gradient_descent(X, y, theta, alpha, num_iters)\n",
    "\n",
    "# Plot the convergence graph\n",
    "plt.figure()\n",
    "plt.plot(np.arange(J_history.size), J_history)\n",
    "plt.xlabel('Number of iterations')\n",
    "plt.ylabel('Cost J')\n",
    "\n",
    "# Display gradient descent's result\n",
    "print('Theta computed from gradient descent : \\n{}'.format(theta))"
   ]
  },
  {
   "cell_type": "code",
   "execution_count": 15,
   "metadata": {
    "colab": {},
    "colab_type": "code",
    "id": "oxEh8LIdhWQz"
   },
   "outputs": [
    {
     "name": "stdout",
     "output_type": "stream",
     "text": [
      "Theta computed from OLS linear regression : \n",
      "[ 3.64911033e+01 -1.07170557e-01  4.63952195e-02  2.08602395e-02\n",
      "  2.68856140e+00 -1.77957587e+01  3.80475246e+00  7.51061703e-04\n",
      " -1.47575880e+00  3.05655038e-01 -1.23293463e-02 -9.53463555e-01\n",
      "  9.39251272e-03 -5.25466633e-01]\n"
     ]
    }
   ],
   "source": [
    "# Now we are going to use the ordinary least squares (OLS) linear regression\n",
    "\n",
    "# re-load dataset\n",
    "\n",
    "from sklearn.datasets import load_boston\n",
    "dataset = load_boston()\n",
    "\n",
    "X = dataset.data\n",
    "y = dataset.target\n",
    "\n",
    "X = np.c_[np.ones(m), X] # Add intercept term to X\n",
    "\n",
    "theta = linearRegression_ols(X, y)\n",
    "\n",
    "# Display normal equation's result\n",
    "print('Theta computed from OLS linear regression : \\n{}'.format(theta))"
   ]
  },
  {
   "cell_type": "markdown",
   "metadata": {
    "colab_type": "text",
    "id": "M6M7dM3JJ4Ns"
   },
   "source": [
    "Now lets do gradient descent with L2-regularization (or Ridge Regression). The next 6 cells are a copy of the template that we provided above with a '_regularization' added at the end of the function name. Feel free to reuse the code that you wrote above but be sure to make the appropriate modifications to the necessary functions to add L2-regularization."
   ]
  },
  {
   "cell_type": "code",
   "execution_count": 16,
   "metadata": {
    "colab": {},
    "colab_type": "code",
    "id": "55TAK-OahXIe"
   },
   "outputs": [],
   "source": [
    "def feature_normalization_regularization(X):\n",
    "    '''\n",
    "    In this function we are going to do something similar to what we did in A0, \n",
    "    we are going to normalize all the features. Implement the following steps:\n",
    "    \n",
    "    - for each feature, calculate its mean\n",
    "    - substract the mean from their respective feature\n",
    "    - save the above result in the 'mu' variable\n",
    "    \n",
    "    - for each feature, calculate its standard deviation\n",
    "    - divide each feature by its standard deviation\n",
    "    - save the above result in the 'sigma' variable\n",
    "    \n",
    "    '''\n",
    "  \n",
    "    n = X.shape[1]\n",
    "    \n",
    "    mean = np.mean(X, axis=0)\n",
    "    mu = np.subtract(X,mean)\n",
    "    SD= np.std(X, axis=0)\n",
    "    sigma = X/SD\n",
    "    X_norm=(mu/SD)\n",
    "    print(\"Xnorm:\",X_norm)\n",
    "   \n",
    "   # X_norm = X\n",
    "   # mu = np.zeros(n)\n",
    "   # sigma = np.zeros(n)\n",
    "\n",
    "    return X_norm, mu, sigma"
   ]
  },
  {
   "cell_type": "code",
   "execution_count": 17,
   "metadata": {
    "colab": {},
    "colab_type": "code",
    "id": "qwLekxJMKOEi"
   },
   "outputs": [],
   "source": [
    "def cost_function_regularization(X, y, theta):\n",
    "    '''\n",
    "    In this function we are going to... you guessed it...\n",
    "    Implement the cost function!\n",
    " \n",
    "    '''\n",
    "\n",
    "    m = y.size\n",
    "    cost = 0\n",
    "    \n",
    "    h0=np.dot(X,theta.T)\n",
    "    t = ((h0-y)**2)\n",
    "    for i in range(0, len(t)):\n",
    "        cost= cost+ t[i]\n",
    "\n",
    "    for i in range(1, len(theta)):\n",
    "        reg = ((theta[i]**2)*lamda)\n",
    "        cost= cost+ reg\n",
    "\n",
    "    return cost/(2*m)"
   ]
  },
  {
   "cell_type": "code",
   "execution_count": 18,
   "metadata": {
    "colab": {},
    "colab_type": "code",
    "id": "5FIZa_vUKQrO"
   },
   "outputs": [],
   "source": [
    "def gradient_descent_regularization(X, y, theta, learning_rate, num_iters):\n",
    "    m = y.size\n",
    "    J_history = np.zeros(num_iters)\n",
    "    temp =np.zeros(len(theta))\n",
    "    penal=0\n",
    "\n",
    "    for i in range(0, num_iters):\n",
    "        '''\n",
    "        Implement gradient descent for a single gradient step on the parameter \n",
    "        vector theta. Save the result of each iteration on J_history.\n",
    "        '''\n",
    "        J_history[i] = cost_function_regularization(X, y, theta)\n",
    "        h0=np.dot(X,theta.T)\n",
    "        t=(h0-y)/m\n",
    "        for j in range(0 , len(theta)):\n",
    "            for k in range(0,m):\n",
    "                temp[j]-= (learning_rate *t[k] * X[k][j])\n",
    "        theta[0] = temp[0]        \n",
    "        for l in range(1 , len(theta)):\n",
    "            penal=(learning_rate*lamda*theta[l])/m\n",
    "            theta[l] = temp[l]-penal\n",
    "            temp[l]= theta[l]\n",
    "           \n",
    "    return theta, J_history"
   ]
  },
  {
   "cell_type": "code",
   "execution_count": 19,
   "metadata": {
    "colab": {},
    "colab_type": "code",
    "id": "R500H0_PKT3d"
   },
   "outputs": [],
   "source": [
    "# load dataset\n",
    "\n",
    "from sklearn.datasets import load_boston\n",
    "dataset = load_boston()\n",
    "X = dataset.data\n",
    "y = dataset.target"
   ]
  },
  {
   "cell_type": "code",
   "execution_count": 20,
   "metadata": {
    "colab": {},
    "colab_type": "code",
    "id": "9k-9UuXkKWT7"
   },
   "outputs": [
    {
     "name": "stdout",
     "output_type": "stream",
     "text": [
      "Normalizing Features ...\n",
      "Xnorm: [[-0.41771335  0.28482986 -1.2879095  ... -1.45900038  0.44105193\n",
      "  -1.0755623 ]\n",
      " [-0.41526932 -0.48772236 -0.59338101 ... -0.30309415  0.44105193\n",
      "  -0.49243937]\n",
      " [-0.41527165 -0.48772236 -0.59338101 ... -0.30309415  0.39642699\n",
      "  -1.2087274 ]\n",
      " ...\n",
      " [-0.41137448 -0.48772236  0.11573841 ...  1.17646583  0.44105193\n",
      "  -0.98304761]\n",
      " [-0.40568883 -0.48772236  0.11573841 ...  1.17646583  0.4032249\n",
      "  -0.86530163]\n",
      " [-0.41292893 -0.48772236  0.11573841 ...  1.17646583  0.44105193\n",
      "  -0.66905833]]\n"
     ]
    }
   ],
   "source": [
    "# Normalize features\n",
    "print('Normalizing Features ...')\n",
    "\n",
    "X, mu, sigma = feature_normalization_regularization(X)\n",
    "X = np.c_[np.ones(m), X]  # Add a column of ones to X"
   ]
  },
  {
   "cell_type": "code",
   "execution_count": 21,
   "metadata": {
    "colab": {},
    "colab_type": "code",
    "id": "E_TgDVLgKZVq"
   },
   "outputs": [
    {
     "name": "stdout",
     "output_type": "stream",
     "text": [
      "Running gradient descent ...\n",
      "Theta computed from gradient descent : \n",
      "[22.53269111 -0.77509531  0.81617804 -0.261192    0.740277   -1.57041464\n",
      "  2.8470116  -0.09653812 -2.67972817  1.46054165 -0.93116664 -1.93293722\n",
      "  0.8619596  -3.5798556 ]\n"
     ]
    },
    {
     "data": {
      "image/png": "[encoded data removed]",
      "text/plain": [
       "<Figure size 432x288 with 1 Axes>"
      ]
     },
     "metadata": {},
     "output_type": "display_data"
    }
   ],
   "source": [
    "# Now we proceed with Gradient Descent\n",
    "\n",
    "print('Running gradient descent ...')\n",
    "\n",
    "# Choose some alpha value\n",
    "alpha = 0.03\n",
    "num_iters = 400\n",
    "lamda = 10\n",
    "# Initialize theta and execute gradient descent\n",
    "theta = np.zeros(X.shape[1])\n",
    "#cost_function_regularization(X, y, theta)\n",
    "theta, J_history = gradient_descent_regularization(X, y, theta, alpha, num_iters)\n",
    "\n",
    "# Plot the convergence graph\n",
    "plt.figure()\n",
    "plt.plot(np.arange(J_history.size), J_history)\n",
    "plt.xlabel('Number of iterations')\n",
    "plt.ylabel('Cost J')\n",
    "\n",
    "# Display gradient descent's result\n",
    "\n",
    "print('Theta computed from gradient descent : \\n{}'.format(theta))"
   ]
  },
  {
   "cell_type": "markdown",
   "metadata": {
    "colab_type": "text",
    "id": "yY9i61hZGjOl"
   },
   "source": [
    "## Question 3: Guess the function (25 points)\n",
    "\n",
    "Consider three datasets provided with this notebook, namely `data1.csv` and `data2.csv`. Each dataset has 1000 samples. Every sample has 5 features $x_1, x_2, \\ldots, x_5$ and a target variable $y$. In each of the datasets, the target variable has been generated from the features of a different unknown function $y$. In general, $$y=f(\\mathbf{x})=\\sum_{j} w_j \\prod_{i=1}^5 x_i^{k_{i;j}}$$ where $x_i$ is the $i^{\\text {th}}$ feature and $j$ denotes a particular term in the polynomial and $k_{i;j}$ is the power of the $i^{\\text{th}}$ feature in the $j^{\\text{th}}$ term. It can be any whole number from $0$ to $3$.\n",
    "\n",
    "Thus $y_1=f_1(\\mathbf{x})$;  $y_2=f_2(\\mathbf{x})$ and $y_3=f_3(\\mathbf{x})$.\n",
    "\n",
    "1. Find both the unknown target functions using the given datasets. Use the dedicated cells defined below to write the corresponding methodology and code.\n",
    "2. Define all your variables such that when we run the corresponding code cell, it should nicely print the correct output which supports your methodology and also prints the right answer.\n",
    "\n",
    "#### Hints:\n",
    "1. Rounding off will make things easy and we encourage it. For instance, you can write 2.98 as 3!"
   ]
  },
  {
   "cell_type": "markdown",
   "metadata": {
    "colab_type": "text",
    "id": "-s5oaMtDqAAk"
   },
   "source": [
    "### Methodology and answer for function 1"
   ]
  },
  {
   "cell_type": "code",
   "execution_count": 22,
   "metadata": {
    "colab": {},
    "colab_type": "code",
    "id": "DpQ-_-25qDbq"
   },
   "outputs": [
    {
     "name": "stdout",
     "output_type": "stream",
     "text": [
      "Running gradient descent ...\n",
      "Theta computed from gradient descent : \n",
      "[ 1.18960502e+01  1.95992261e+00 -3.94638673e+00 -5.70742007e-05\n",
      "  4.04484394e+00 -1.00720015e-04]\n",
      "\n",
      " y=f(x)= 11.896050172675505 + 1.9599226089550545 x1+ -3.9463867303593743 x2+ -5.707420073726257e-05 x3+ 4.044843944555185 x4+ -0.00010072001505004308 x5\n"
     ]
    },
    {
     "data": {
      "image/png": "[encoded data removed]",
      "text/plain": [
       "<Figure size 432x288 with 1 Axes>"
      ]
     },
     "metadata": {},
     "output_type": "display_data"
    }
   ],
   "source": [
    "# for part 1 ,it is given that the polynomial is of degree 1, which means that \n",
    "# y=f(x)= w0+w1X1+w2X2+w3X3+w4X4+w5X5\n",
    "#used the same logic that was done for linear regression using gradient descent\n",
    "#\n",
    "## Code for function 1\n",
    "\n",
    "filename = 'data1.csv'\n",
    "raw_data = open(filename, 'rt')\n",
    "data = np.loadtxt(raw_data, delimiter=\",\")\n",
    "X = data[:,:-1]\n",
    "y = data[:,-1]\n",
    "\n",
    "def feature_normalization_1(X):\n",
    "  \n",
    "    n = X.shape[1]\n",
    "    \n",
    "    mean = np.mean(X, axis=0)\n",
    "    mu = np.subtract(X,mean)\n",
    "    SD= np.std(X, axis=0)\n",
    "    sigma = X/SD\n",
    "    X_norm=(mu/SD)\n",
    "  \n",
    "    return X_norm\n",
    "\n",
    "def cost_function1(X, y, theta):\n",
    "    '''\n",
    "    In this function we are going to... you guessed it...\n",
    "    Implement the cost function!\n",
    " \n",
    "    '''\n",
    "    #theta[0]=theta[0]-alpha(h0-y)**2*x[0]\n",
    "    m = y.size\n",
    "    cost = 0\n",
    "    #print(X)\n",
    "    #print(theta.T)\n",
    "    #print(y)\n",
    "    h0=np.dot(X,theta.T)\n",
    "    t = ((h0-y)**2)/(2*m)\n",
    "    for i in range(0, len(t)):\n",
    "        cost= cost+ t[i]\n",
    "    return cost\n",
    "\n",
    "def gradient_descent1(X, y, theta, learning_rate, num_iters):\n",
    "    m = y.size\n",
    "    J_history = np.zeros(num_iters)\n",
    "    for i in range(0, num_iters):\n",
    "        J_history[i] = cost_function1(X, y, theta)\n",
    "        h0=np.dot(theta,X.T)\n",
    "        t=(y-h0)\n",
    "        temp =np.dot(t,X)\n",
    "        theta +=  learning_rate*temp/m\n",
    "        \n",
    "    return theta ,J_history\n",
    "\n",
    "m = y.size\n",
    "X = feature_normalization_1(X)\n",
    "X = np.c_[np.ones(m), X]  # Add a column of ones to X\n",
    "\n",
    "print('Running gradient descent ...')\n",
    "\n",
    "alpha = 0.03\n",
    "num_iters = 400\n",
    "# Initialize theta and execute gradient descent\n",
    "theta = np.zeros(X.shape[1])\n",
    "theta, J_history = gradient_descent1(X, y, theta, alpha, num_iters)\n",
    "\n",
    "# Plot the convergence graph\n",
    "plt.figure()\n",
    "plt.plot(np.arange(J_history.size), J_history)\n",
    "plt.xlabel('Number of iterations')\n",
    "plt.ylabel('Cost J')\n",
    "\n",
    "# Display gradient descent's result\n",
    "#theta= round(theta,2)\n",
    "print('Theta computed from gradient descent : \\n{}'.format(theta))\n",
    "print(\"\\n y=f(x)=\",theta[0],\"+\",theta[1],\"x1+\",theta[2],\"x2+\",theta[3],\"x3+\",theta[4],\"x4+\",theta[5],\"x5\")\n",
    "#print(\"cost\",J_history[num_iters-1])\n"
   ]
  },
  {
   "cell_type": "markdown",
   "metadata": {
    "colab_type": "text",
    "id": "lyF_2EcAqFHJ"
   },
   "source": [
    "### Methodology and answer for function 2"
   ]
  },
  {
   "cell_type": "code",
   "execution_count": 23,
   "metadata": {
    "colab": {},
    "colab_type": "code",
    "id": "zE0UxTW7qH2p"
   },
   "outputs": [
    {
     "name": "stdout",
     "output_type": "stream",
     "text": [
      "Running gradient descent ...\n",
      "(1000, 1024)\n",
      "Theta computed from gradient descent : \n",
      "[ 3.95676711e+01 -8.53489031e-02 -4.33490619e-03 ...  5.09851790e-03\n",
      "  1.57041105e-02 -6.43051501e-04]\n",
      "\n",
      "y=f(x)= 39.56767109999965 + -0.08534890306755857 X5+ -0.004334906193936638 X5^2 0.11367360804006878 X5^3 0.4263030594157852 X4 -1.2003045012229117 X4.X5 -0.22140533078691302 X4.X5^2 -0.05565924260830713 X4.X5^3 -4.603150095589918 X4^2.X5 -0.06081431364830759 X4^2.X5^2 -0.1771019174040702 X4^2.X5^3 +.........+ -0.01503761254990753 X1^3.X2^3.X3^3.X4^2.X5^3+ 0.004890105911754104 X1^3.X2^3.X3^3.X4^3+ 0.005098517898626243 X1^3.X2^3.X3^3.X4^3.X5+ 0.015704110483173467 X1^3.X2^3.X3^3.X4^3.X5^2+ -0.0006430515014360686 X1^3.X2^3.X3^3.X4^3.X5^3\n"
     ]
    },
    {
     "data": {
      "image/png": "[encoded data removed]",
      "text/plain": [
       "<Figure size 432x288 with 1 Axes>"
      ]
     },
     "metadata": {},
     "output_type": "display_data"
    }
   ],
   "source": [
    "# for part 1 ,it is given that the polynomial is of degree 3, which means that \n",
    "# y=f(x)= w0+w1X5+w2X5^2+w3X5^3+w4X4.X5+w5X4.X5^2+w6X4.X5^3+w7X4^2.X5........+w1019.X1^3.X2^3.X3^3.X4^2.X5^3\n",
    "#+w1021X1^3.X2^3.X3^3.X4^3.X5 +w1022.X1^3.X2^3.X3^3.X4^3.X5^2+w1023.X1^3.X2^3.X3^3.X4^3.X5^3\n",
    "#so we have to generate 1024 W.\n",
    "#First generated 1024 X,s by making X a matrix of size 1000*1024. then used gradient descent and found out all the different w\n",
    "\n",
    "## Code for function 2\n",
    "\n",
    "def feature_normalization_2(X):\n",
    "  \n",
    "    n = X.shape[1]\n",
    "    \n",
    "    mean = np.mean(X, axis=0)\n",
    "    mu = np.subtract(X,mean)\n",
    "    SD= np.std(X, axis=0)\n",
    "    sigma = X/SD\n",
    "    X_norm=(mu/SD)\n",
    "  \n",
    "    return X_norm\n",
    "\n",
    "def cost_function2(X, y, theta):\n",
    "    m = y.size\n",
    "    cost = 0\n",
    "    h0=np.dot(X,theta.T)\n",
    "    t = ((h0-y)**2)/(2*m)\n",
    "    for i in range(0, len(t)):\n",
    "        cost= cost+ t[i]\n",
    "    return cost\n",
    "\n",
    "def gradient_descent2(X, y, theta, learning_rate, num_iters):\n",
    "    m = y.size\n",
    "    J_history = np.zeros(num_iters)\n",
    "    for i in range(0, num_iters):\n",
    "        J_history[i] = cost_function2(X, y, theta)\n",
    "        h0=np.dot(theta,X.T)\n",
    "        t=(y-h0)\n",
    "        temp =np.dot(t,X)\n",
    "        theta +=  learning_rate*temp/m\n",
    "        \n",
    "    return theta ,J_history\n",
    "\n",
    "\n",
    "#this is to conveert x in to a 1000*1023 matrix \n",
    "print('Running gradient descent ...')   \n",
    "filename = 'data2.csv'\n",
    "raw_data = open(filename, 'rt')\n",
    "data = np.loadtxt(raw_data, delimiter = \",\")\n",
    "X = data[:,:-1]\n",
    "y = data[:,-1]\n",
    "m = y.size\n",
    "X_new = np.zeros(X.shape[0])\n",
    "a = np.zeros(X.shape[0])\n",
    "for i in range(0,4):\n",
    "    for j in range(0,4):\n",
    "        for k in range(0,4):\n",
    "            for l in range(0,4):\n",
    "                for q in range(0,4):\n",
    "                    a = (X[:,4]**(q))*(X[:,3]**(l))*(X[:,2]**(k))*(X[:,1]**(j))*(X[:,0]**(i))\n",
    "                    X_new = np.vstack((X_new,a))\n",
    "                        \n",
    "X_new= X_new.T\n",
    "X_new = X_new[:,2:]   \n",
    "#print(X_new.shape)\n",
    "#X= X_new\n",
    "X = feature_normalization_2(X_new)\n",
    "X = np.c_[np.ones(m), X]  # Add a column of ones to X\n",
    "print(X.shape)\n",
    "#have given num_ierations as 8000 so as to minizie the cost to 0.083\n",
    "alpha = 0.01\n",
    "num_iters = 8000\n",
    "# Initialize theta and execute gradient descent\n",
    "# each w can have power of every X from 0-4, there are 5X's and hence they can be 4*4*4*4*4 possible values\n",
    "theta = np.zeros(X.shape[1])\n",
    "theta, J_history = gradient_descent2(X, y, theta, alpha, num_iters)\n",
    "\n",
    "# Plot the convergence graph\n",
    "plt.figure()\n",
    "plt.plot(np.arange(J_history.size), J_history)\n",
    "plt.xlabel('Number of iterations')\n",
    "plt.ylabel('Cost J')\n",
    "\n",
    "y1 = np.dot(X,theta.T)\n",
    "# Display gradient descent's result\n",
    "\n",
    "print('Theta computed from gradient descent : \\n{}'.format(theta))\n",
    "#print(\"cost\",J_history[num_iters-1])\n",
    "print(\"\\ny=f(x)=\",theta[0],\"+\",theta[1],\"X5+\",theta[2],\"X5^2\",theta[3],\"X5^3\",theta[4],\"X4\",theta[5],\"X4.X5\",theta[6],\"X4.X5^2\",theta[7],\"X4.X5^3\",theta[8],\"X4^2.X5\",theta[9],\"X4^2.X5^2\",theta[10],\"X4^2.X5^3 +.........+\",theta[1019],\"X1^3.X2^3.X3^3.X4^2.X5^3+\",theta[1020],\"X1^3.X2^3.X3^3.X4^3+\",theta[1021],\"X1^3.X2^3.X3^3.X4^3.X5+\",theta[1022],\"X1^3.X2^3.X3^3.X4^3.X5^2+\",theta[1023],\"X1^3.X2^3.X3^3.X4^3.X5^3\")\n"
   ]
  },
  {
   "cell_type": "code",
   "execution_count": null,
   "metadata": {},
   "outputs": [],
   "source": []
  }
 ],
 "metadata": {
  "colab": {
   "collapsed_sections": [],
   "name": "P556_Assignment1v2.ipynb",
   "provenance": [],
   "version": "0.3.2"
  },
  "kernelspec": {
   "display_name": "Python 3",
   "language": "python",
   "name": "python3"
  },
  "language_info": {
   "codemirror_mode": {
    "name": "ipython",
    "version": 3
   },
   "file_extension": ".py",
   "mimetype": "text/x-python",
   "name": "python",
   "nbconvert_exporter": "python",
   "pygments_lexer": "ipython3",
   "version": "3.6.5"
  }
 },
 "nbformat": 4,
 "nbformat_minor": 1
}
