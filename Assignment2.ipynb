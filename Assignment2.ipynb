{
 "cells": [
  {
   "cell_type": "markdown",
   "metadata": {
    "colab_type": "text",
    "id": "R--G1S4LFVR9"
   },
   "source": [
    "<center>\n",
    "#CSCI-P556: Applied Machine Learning\n",
    "#Fall 2018\n",
    "#Assignment #2\n",
    "</center>\n",
    "---\n",
    "\n"
   ]
  },
  {
   "cell_type": "markdown",
   "metadata": {
    "colab_type": "text",
    "id": "Ooye3d-VGooZ"
   },
   "source": [
    "## Problem 1 (50 points)\n",
    "\n",
    "In this problem you will be working with Bank Marketing Dataset. We encourage your to look at the description and make yourself comfortable with it: https://archive.ics.uci.edu/ml/datasets/bank+marketing\n",
    "\n",
    "Two pairs of training and validation sets have been drawn from this dataset for you to work with, namely: \n",
    " -  `train_1.csv` and `valid_1.csv`\n",
    " -  `train_2.csv`and `valid_2.csv`\n",
    " \n",
    "Finally, we have also provided a `test.csv` which is common for both settings.\n",
    "\n",
    "### Task 0: (3 points)\n",
    "\n",
    "What is the difference between the two sets of train/validation sets? Write your answer here:\n",
    "\n",
    "### Ans: <!-- Your answers goes here -->\n",
    "The only difference i could observe was the number of observations <br>\n",
    "The 1st set train_1/valid_1 have 6770/1695 number of observation <br>\n",
    "The 2nd set train_2/valid_2 have 28935/7235 number of observations <br>\n",
    "Both the sets follow the 80/20 rule but the number of observations in set2 is \"4\" times that of set1 <br>\n",
    "Intuition : Since the data in set2 is more than that of set1, we be asssume that the accuracy of set2 will be higher than that of set1"
   ]
  },
  {
   "cell_type": "markdown",
   "metadata": {
    "colab_type": "text",
    "id": "MFKZT4mhJlSK"
   },
   "source": [
    "### Task 1 (Data Preprocessing) (12 points)\n",
    "\n",
    "Before you can train a machine learning model using this dataset, you will have to run a number of preprocessing steps to transform the data into a form which will be acceptable to the model. In this task, you are supposed to carry out the follow steps:\n",
    "\n",
    "1.  Find all features that have continuous numeric values and normalize them in the same way as you did in Assignment 1. List those features here.\n",
    "2. Find all categorical features and process them as was discussed in class. List those features and explain what you did.\n",
    "3. Are there any features which have missing values? (Hint: Missing values aren't always nicely represented and can be misleading sometimes). Find those features and explain how you will handle them.\n",
    "\n"
   ]
  },
  {
   "cell_type": "markdown",
   "metadata": {
    "colab_type": "text",
    "id": "uLoZ67_hPo9I"
   },
   "source": [
    "Write your text-based answers here.\n",
    "\n",
    "\n",
    "1.   Answer for bullet one <br>\n",
    "     Continuous values : age, balance, duration, campaign, pdays ,previous <br>\n",
    "     For all the continuous data, the data was normalized \n",
    "2.   Answer for bullet two <br>\n",
    "     Categorical Features: job, marital, education, default, housing, loan, contact, day, month, poutcome,y. <br>\n",
    "     For all the categorical data I did one-hot encoding(Converting the different categories into binaries)\n",
    "3.   Answer for bullet three <br>\n",
    "     Yes, some of the features have missing data, the missing features are given as unknown in the data such as <br>\n",
    "     job,education,contact and poutcome <br>\n",
    "     or -1 in pdays <br>\n",
    "     since the amount of missing data is very large in pdays and poutcome (around 70-80%) I have decided to drop the two column      <br>\n",
    "     For the other columns thinking of finding the mode and replacing the unknown values\n"
   ]
  },
  {
   "cell_type": "code",
   "execution_count": 1,
   "metadata": {
    "colab": {},
    "colab_type": "code",
    "id": "-kxn7ZjCJpJ2"
   },
   "outputs": [
    {
     "name": "stdout",
     "output_type": "stream",
     "text": [
      "done\n"
     ]
    }
   ],
   "source": [
    "# PROBLEM 1, TASK 1 CODE GOES HERE\n",
    "#continuous : age, balance, duration, campaign, pdays ,previous\n",
    "#categorical : job, marital, education, default, housing, loan, contact, day, month, poutcome,y\n",
    "\n",
    "### have to consider days as categorical not fone that yet\n",
    "import pandas as pd\n",
    "from sklearn.preprocessing import OneHotEncoder\n",
    "\n",
    "\n",
    "def transformData(dataset):\n",
    "\n",
    "   \n",
    "    contData = dataset.select_dtypes(include=['int64'])\n",
    "    contData= contData.drop(['day'], axis=1)\n",
    "    contData= contData.drop(['pdays'], axis=1)\n",
    "  \n",
    "    mean = contData- contData.mean()\n",
    "    #SD = contData.max()-contData.min()\n",
    "    SD= contData.std()\n",
    "    contData_norm= mean/SD\n",
    "    \n",
    "    catData = (dataset.select_dtypes(include=['object']) )\n",
    "    y = catData['y']\n",
    "    del catData['y']\n",
    "    del catData['poutcome']\n",
    "    sid = dataset[['day']].copy() #pd.concat([catData,dataset['day']])\n",
    "    bins = [1, 6, 11, 16, 21, 26,31]\n",
    "    sid = (pd.cut(sid['day'],bins))\n",
    "    \n",
    "    catData = pd.concat([catData,sid], axis=1, sort=False)\n",
    "    catData_ohe=pd.get_dummies(catData)\n",
    "    y_ohe=pd.get_dummies(y, drop_first=True)\n",
    " #   catData_ohe =catData_ohe.drop(['job_unknown', 'marital_single', 'education_unknown','default_no','housing_no','loan_no','contact_unknown','month_dec','poutcome_unknown','day_(26, 31]'], axis=1)\n",
    "    catData_ohe =catData_ohe.drop(['job_unknown', 'marital_single', 'education_unknown','default_no','housing_no','loan_no','contact_unknown','month_dec','day_(26, 31]'], axis=1)\n",
    "    \n",
    " \n",
    "    result = pd.concat([contData_norm, catData_ohe], axis=1, sort=False)\n",
    "    return(result,y_ohe)\n",
    "\n",
    "\n",
    "train_1= pd.read_csv(\"train_1.csv\")\n",
    "train_1,y= transformData(train_1)\n",
    "print(\"done\")"
   ]
  },
  {
   "cell_type": "markdown",
   "metadata": {
    "colab_type": "text",
    "id": "5EaChdKLJjio"
   },
   "source": [
    "### Task 2 (Model $\\mathcal{A}$) (10 points)\n",
    "\n",
    "Train a logistic regression model with $L_2$ regularization on `train_1.csv` after applying the necessary preprocessing steps of Task 1. Use the validation set `valid_1.csv` to choose the best regularization coefficient $\\lambda$. Plot a curve with regularization coefficient in the X axis and the validation accuracy on the Y axis."
   ]
  },
  {
   "cell_type": "code",
   "execution_count": 2,
   "metadata": {},
   "outputs": [
    {
     "data": {
      "text/plain": [
       "<bound method NDFrame.describe of       age            job   marital  education default  balance housing loan  \\\n",
       "0      58      housemaid  divorced  secondary      no        0      no   no   \n",
       "1      47    blue-collar   married  secondary      no     -216     yes   no   \n",
       "2      31     management    single   tertiary      no       59     yes  yes   \n",
       "3      60     technician   married  secondary      no      824     yes   no   \n",
       "4      42       services   married  secondary      no      -91     yes  yes   \n",
       "5      59      housemaid   married    primary      no       57      no   no   \n",
       "6      62  self-employed  divorced   tertiary      no        6     yes   no   \n",
       "7      44    blue-collar   married    primary      no       67     yes   no   \n",
       "8      53     technician  divorced  secondary      no      173      no  yes   \n",
       "9      49     management  divorced   tertiary      no      914      no   no   \n",
       "10     37     technician   married   tertiary      no      549      no   no   \n",
       "11     51        retired   married  secondary      no     1435      no   no   \n",
       "12     53     unemployed  divorced  secondary      no      587      no   no   \n",
       "13     43    blue-collar   married    primary      no     3064     yes   no   \n",
       "14     38    blue-collar    single   tertiary      no      797     yes   no   \n",
       "15     38     technician    single   tertiary      no     2350      no   no   \n",
       "16     33     management   married   tertiary      no        5     yes   no   \n",
       "17     28   entrepreneur    single   tertiary      no       16      no   no   \n",
       "18     37       services   married  secondary      no     1498     yes   no   \n",
       "19     56     technician  divorced  secondary      no      179      no   no   \n",
       "20     33    blue-collar    single    primary      no      433     yes   no   \n",
       "21     46     technician   married  secondary      no      152      no   no   \n",
       "22     25     technician    single   tertiary      no      800     yes   no   \n",
       "23     30       services    single  secondary     yes        0      no  yes   \n",
       "24     42     unemployed   married    primary      no       11      no   no   \n",
       "25     36       services   married    primary      no       92     yes   no   \n",
       "26     52         admin.   married    primary      no     2390      no  yes   \n",
       "27     30     technician    single   tertiary      no     2325      no   no   \n",
       "28     55  self-employed   married  secondary      no       39      no   no   \n",
       "29     35     management  divorced   tertiary      no      434     yes   no   \n",
       "...   ...            ...       ...        ...     ...      ...     ...  ...   \n",
       "6739   49     management   married   tertiary      no       68     yes  yes   \n",
       "6740   36    blue-collar   married    primary      no      319     yes   no   \n",
       "6741   49  self-employed   married  secondary      no     1103      no   no   \n",
       "6742   40   entrepreneur   married   tertiary      no       70      no   no   \n",
       "6743   48     technician   married  secondary      no      566      no   no   \n",
       "6744   84        retired   married  secondary      no    81204      no   no   \n",
       "6745   51         admin.   married    primary      no     1330     yes   no   \n",
       "6746   34    blue-collar    single  secondary      no       47     yes   no   \n",
       "6747   56     management  divorced   tertiary      no     3287      no   no   \n",
       "6748   31    blue-collar   married  secondary      no      -13     yes   no   \n",
       "6749   37     management    single   tertiary      no     8066      no   no   \n",
       "6750   41         admin.   married  secondary      no        0     yes   no   \n",
       "6751   37     unemployed    single   tertiary      no     1316     yes   no   \n",
       "6752   60     management   married    primary      no       92      no   no   \n",
       "6753   59    blue-collar  divorced    primary      no      989      no   no   \n",
       "6754   33     technician   married  secondary      no        4     yes  yes   \n",
       "6755   53   entrepreneur   married    unknown      no       28      no   no   \n",
       "6756   34    blue-collar   married  secondary     yes       -7     yes   no   \n",
       "6757   40     technician   married  secondary      no     2266      no   no   \n",
       "6758   43   entrepreneur  divorced   tertiary      no     1756      no   no   \n",
       "6759   48         admin.    single  secondary      no     1544     yes   no   \n",
       "6760   32     technician   married  secondary      no        2     yes  yes   \n",
       "6761   73        retired   married  secondary      no     2850      no   no   \n",
       "6762   38      housemaid    single    primary      no      199     yes   no   \n",
       "6763   47     unemployed    single  secondary      no     4819      no   no   \n",
       "6764   34     technician    single  secondary      no      194     yes  yes   \n",
       "6765   41     technician   married  secondary      no     1066      no   no   \n",
       "6766   50  self-employed   married   tertiary      no      202     yes   no   \n",
       "6767   22        student    single  secondary      no      948      no   no   \n",
       "6768   54     management  divorced   tertiary      no    12018     yes   no   \n",
       "\n",
       "        contact  day month  duration  campaign  pdays  previous poutcome    y  \n",
       "0      cellular    2   jul       478         2     -1         0  unknown  yes  \n",
       "1      cellular    6   may       197         1    282         3  failure   no  \n",
       "2      cellular    6   may      1347         2    363         1  failure  yes  \n",
       "3      cellular    9   aug       265         1    181         8  success  yes  \n",
       "4      cellular    5   feb        43         1     -1         0  unknown   no  \n",
       "5      cellular   22   aug       212        11     -1         0  unknown   no  \n",
       "6      cellular   13   oct       216         1    183         4  success  yes  \n",
       "7       unknown    6   may       220         2     -1         0  unknown   no  \n",
       "8       unknown    1   jul       157         1     -1         0  unknown   no  \n",
       "9      cellular    4   aug       185         1     -1         0  unknown  yes  \n",
       "10     cellular    2   mar       239         1     -1         0  unknown  yes  \n",
       "11      unknown   11   jun       587         1     -1         0  unknown  yes  \n",
       "12     cellular   19   nov       561         1     -1         0  unknown  yes  \n",
       "13     cellular   20   nov      2453         2     -1         0  unknown  yes  \n",
       "14      unknown   11   jun       124         4     -1         0  unknown   no  \n",
       "15     cellular   30   jul       101         2     -1         0  unknown   no  \n",
       "16      unknown    7   aug        12         1     -1         0  unknown   no  \n",
       "17     cellular    5   feb        48         1     -1         0  unknown   no  \n",
       "18     cellular   20   apr       107         1     -1         0  unknown   no  \n",
       "19     cellular   18   jul       536         1     -1         0  unknown  yes  \n",
       "20     cellular   15   may        54         4     -1         0  unknown   no  \n",
       "21     cellular    9   jul        72         1     -1         0  unknown   no  \n",
       "22      unknown   13   may       151         4     -1         0  unknown   no  \n",
       "23      unknown    2   jul        95         3     -1         0  unknown   no  \n",
       "24     cellular    7   jul       111         3     -1         0  unknown   no  \n",
       "25     cellular    5   jun       244         7     -1         0  unknown  yes  \n",
       "26     cellular   19   nov       216         2     -1         0  unknown   no  \n",
       "27     cellular   10   aug       263         1    127         7  failure  yes  \n",
       "28      unknown   17   jun        20         1     -1         0  unknown   no  \n",
       "29     cellular   13   aug      1314         2     -1         0  unknown  yes  \n",
       "...         ...  ...   ...       ...       ...    ...       ...      ...  ...  \n",
       "6739    unknown   19   may       163         3     -1         0  unknown   no  \n",
       "6740   cellular   13   may       774         2    301         1  failure  yes  \n",
       "6741   cellular   12   aug       428         2     -1         0  unknown   no  \n",
       "6742   cellular   20   nov        57         1     -1         0  unknown   no  \n",
       "6743   cellular    7   aug        51         3     -1         0  unknown   no  \n",
       "6744  telephone    1   apr       390         1     94         3  success  yes  \n",
       "6745    unknown   15   may       415         8     -1         0  unknown   no  \n",
       "6746   cellular   14   apr       232         1    147         2  failure   no  \n",
       "6747   cellular   27   apr       497         1     -1         0  unknown  yes  \n",
       "6748    unknown    9   may       260         3     -1         0  unknown   no  \n",
       "6749  telephone   13   aug        57         1     -1         0  unknown   no  \n",
       "6750   cellular   17   nov       595         2     -1         0  unknown   no  \n",
       "6751   cellular   10   mar       350         2    112         3  failure  yes  \n",
       "6752  telephone    2   feb       447         1     -1         0  unknown   no  \n",
       "6753   cellular   20   jul       125         2     -1         0  unknown  yes  \n",
       "6754    unknown   18   jun       625         2     -1         0  unknown  yes  \n",
       "6755   cellular   31   jul       117         2     -1         0  unknown   no  \n",
       "6756   cellular   22   jul       143         5     -1         0  unknown   no  \n",
       "6757   cellular   26   may       175         3     89         7    other  yes  \n",
       "6758    unknown   17   jun        89         1     -1         0  unknown   no  \n",
       "6759  telephone   30   jun       263         1    450         2  failure  yes  \n",
       "6760   cellular    8   jul       143         1     -1         0  unknown   no  \n",
       "6761   cellular   17   nov       300         1     40         8  failure  yes  \n",
       "6762   cellular   12   may      1203         1    306         1  failure  yes  \n",
       "6763   cellular   18   nov       144         1     -1         0  unknown   no  \n",
       "6764   cellular   15   may      1015         1     -1         0  unknown  yes  \n",
       "6765   cellular   11   feb       109         3     -1         0  unknown  yes  \n",
       "6766   cellular   15   apr       107         1    148         4  failure   no  \n",
       "6767  telephone   18   aug       215         1    197         2  failure  yes  \n",
       "6768   cellular   21   dec       267         2     -1         0  unknown  yes  \n",
       "\n",
       "[6769 rows x 17 columns]>"
      ]
     },
     "execution_count": 2,
     "metadata": {},
     "output_type": "execute_result"
    }
   ],
   "source": [
    "train_1= pd.read_csv(\"train_1.csv\")\n",
    "train_1.describe"
   ]
  },
  {
   "cell_type": "code",
   "execution_count": 69,
   "metadata": {
    "colab": {},
    "colab_type": "code",
    "id": "aQGJ10L-KhZh"
   },
   "outputs": [
    {
     "name": "stdout",
     "output_type": "stream",
     "text": [
      "Calculating...\n",
      "The accuracy of test.csv on model A for lamda=0.1 is :\n",
      " 0.7384717461019573\n"
     ]
    },
    {
     "data": {
      "image/png": "[encoded data removed]",
      "text/plain": [
       "<Figure size 432x288 with 1 Axes>"
      ]
     },
     "metadata": {},
     "output_type": "display_data"
    }
   ],
   "source": [
    "# PROBLEM 1, TASK 2 CODE GOES HERE\n",
    "import matplotlib.pyplot as plt\n",
    "import numpy as np\n",
    "from sklearn.linear_model import LogisticRegression\n",
    "from sklearn import metrics\n",
    "\n",
    "print(\"Calculating...\")\n",
    "train_1= pd.read_csv(\"train_1.csv\")\n",
    "X_train,y_train= transformData(train_1)\n",
    "\n",
    "valid_1= pd.read_csv(\"valid_1.csv\")\n",
    "X_valid,y_valid= transformData(valid_1)\n",
    "\n",
    "test= pd.read_csv(\"test.csv\")\n",
    "X_test,y_test= transformData(test)\n",
    "\n",
    "acc=[]\n",
    "scores= []\n",
    "scoresTest= []\n",
    "testacc=[]\n",
    "lamda=[.01,.03,.1,.2,.3,.4,.9,1,2,3,4,10,100,300]\n",
    "#lamda= np.arange(1,100)\n",
    "for i in lamda:\n",
    "    reg = LogisticRegression(penalty='l2',C=1/i)\n",
    "    reg.fit(X_train, y_train['yes'])\n",
    "    score = reg.score(X_train,y_train)\n",
    "    scores.append(score)\n",
    "    y_pred = reg.predict(X_valid)\n",
    "    acc.append(metrics.accuracy_score(y_valid, y_pred))\n",
    "       \n",
    "#print(scores)\n",
    "plt.plot(lamda, acc ,label=\"accuracy_score\")\n",
    "plt.plot(lamda, scores, label=\"score\")\n",
    "plt.xlabel('Regularization coefficient')\n",
    "plt.ylabel('Accuracy')\n",
    "plt.legend()\n",
    "\n",
    "#the best lamda value was lamda= 0.1,0.2,0.3,0.9\n",
    "reg = LogisticRegression(penalty='l2',C=1/0.1)\n",
    "reg.fit(X_train, y_train['yes'])\n",
    "scoreTest = reg.score(X_test,y_test)\n",
    "print(\"The accuracy of test.csv on model A for lamda=0.1 is :\\n\",scoreTest)\n",
    "    "
   ]
  },
  {
   "cell_type": "markdown",
   "metadata": {
    "colab_type": "text",
    "id": "c0UEYv92KnvQ"
   },
   "source": [
    "### Task 3 (Model $\\mathcal{B}$) (5 points)\n",
    "Train a logistic regression model with $L_2$ regularization on `train_2.csv` after applying the necessary preprocessing steps of Task 1. Use the validation set `valid_2.csv` to choose the best regularization coefficient $\\lambda$. Plot a curve with regularization coefficient in the X axis and the validation accuracy on the Y axis."
   ]
  },
  {
   "cell_type": "code",
   "execution_count": 70,
   "metadata": {
    "colab": {},
    "colab_type": "code",
    "id": "izeiBcCTLcM4"
   },
   "outputs": [
    {
     "name": "stdout",
     "output_type": "stream",
     "text": [
      "Calculating...\n",
      "The accuracy of test.csv on model A for lamda=0.2 is :\n",
      " 0.894061705186332\n"
     ]
    },
    {
     "data": {
      "image/png": "[encoded data removed]",
      "text/plain": [
       "<Figure size 432x288 with 1 Axes>"
      ]
     },
     "metadata": {},
     "output_type": "display_data"
    }
   ],
   "source": [
    "# PROBLEM 1, TASK 3 CODE GOES HERE\n",
    "\n",
    "# PROBLEM 1, TASK 2 CODE GOES HERE\n",
    "import matplotlib.pyplot as plt\n",
    "import numpy as np\n",
    "from sklearn.linear_model import LogisticRegression\n",
    "from sklearn import metrics\n",
    "print(\"Calculating...\")\n",
    "train_2= pd.read_csv(\"train_2.csv\")\n",
    "X_train,y_train= transformData(train_2)\n",
    "\n",
    "valid_2= pd.read_csv(\"valid_2.csv\")\n",
    "X_valid,y_valid= transformData(valid_2)\n",
    "\n",
    "acc=[]\n",
    "scores= []\n",
    "#lamda= np.arange(1,100)\n",
    "lamda=[.1,.2,.3,.4,.9,1,2,3,4,10,50,100,500,1000]\n",
    "\n",
    "for i in lamda:\n",
    "    reg = LogisticRegression(penalty='l2',C=1/i)\n",
    "    reg.fit(X_train, y_train['yes'])\n",
    "    score = reg.score(X_train,y_train)\n",
    "    scores.append(score)\n",
    "    y_pred = reg.predict(X_valid)\n",
    "    acc.append(metrics.accuracy_score(y_valid, y_pred))\n",
    "\n",
    "#print(scores)\n",
    "plt.plot(lamda, acc ,label=\"accuracy_score\")\n",
    "plt.plot(lamda, scores, label=\"score\")\n",
    "plt.xlabel('Regularization coefficient')\n",
    "plt.ylabel('Accuracy')\n",
    "plt.legend()\n",
    "\n",
    "#the best lamda value was lamda= 0.4\n",
    "reg = LogisticRegression(penalty='l2',C=1/0.4)\n",
    "reg.fit(X_train, y_train['yes'])\n",
    "scoreTest = reg.score(X_test,y_test)\n",
    "print(\"The accuracy of test.csv on model A for lamda=0.2 is :\\n\",scoreTest)\n"
   ]
  },
  {
   "cell_type": "markdown",
   "metadata": {
    "colab_type": "text",
    "id": "8KzsVhHPLd3P"
   },
   "source": [
    "### Task 4 (Model $\\mathcal{C}$) (10 points)\n",
    "\n",
    "As you have seen in class, due to the specific (and smart) choice of the loss function, a logistic regression classifier happens to predict the posterioir probability $p(y|\\mathbf{x})$ for any given sample. It then classifies the samples with $p(y|\\mathbf{x}) > 0.5$ as belonging to class $1$ and the rest as belonging to class $0$. Instead, for a fixed threshold of $0.5$, let us consider a dynamic threshold of $\\theta$ which can be chosen after a model has been trained.\n",
    "\n",
    "$$\n",
    "\\ y=\n",
    "\\begin{cases}\n",
    "1 \\text{ if } p(y|\\mathbf{x}) \\geq \\theta \\\\\n",
    "\\\\\n",
    "0 \\text{ if } p(y|\\mathbf{x}) < \\theta \\\\\n",
    "\\end{cases}\n",
    "$$\n",
    "\n",
    "for $0 \\leq \\theta \\leq 1$.\n",
    "\n",
    "Train a logistic regression model with $L_2$ regularization on `train_2.csv` after applying the necessary preprocessing steps of Task 1. Use the validation set `valid_2.csv` to choose the best combination of regularization coefficient $\\lambda$ and the threshold $\\theta$. The best coefficients has to be selected by you after trying out at least five, non-consecutive values. Visualize all these runs.\n",
    "\n",
    "**Hint**: Look at the documentation of Logistic Regression in sci-kit learn to come up with a plan to implement this."
   ]
  },
  {
   "cell_type": "code",
   "execution_count": 71,
   "metadata": {
    "colab": {},
    "colab_type": "code",
    "id": "zJRVTjjrSTRm"
   },
   "outputs": [
    {
     "name": "stdout",
     "output_type": "stream",
     "text": [
      "Calculating\n",
      "The accuracy of test.csv on model A for lamda=0.4 is :\n",
      " 0.8960521950680084\n"
     ]
    },
    {
     "data": {
      "image/png": "[encoded data removed]",
      "text/plain": [
       "<Figure size 432x288 with 1 Axes>"
      ]
     },
     "metadata": {},
     "output_type": "display_data"
    }
   ],
   "source": [
    "# PROBLEM 1, TASK 4 CODE GOES HERE\n",
    "\n",
    "import matplotlib.pyplot as plt\n",
    "import numpy as np\n",
    "from sklearn.linear_model import LogisticRegression\n",
    "from sklearn import metrics\n",
    "print(\"Calculating\")\n",
    "train_2= pd.read_csv(\"train_2.csv\")\n",
    "X_train,y_train= transformData(train_2)\n",
    "\n",
    "valid_2= pd.read_csv(\"valid_2.csv\")\n",
    "X_valid,y_valid= transformData(valid_2)\n",
    "\n",
    "scores= []\n",
    "theeta=[.2,.4,.5,.7,.95]\n",
    "acc=X_new = np.zeros(len(theeta))\n",
    "#lamda= np.arange(1,100)\n",
    "lamda=[.2,.4,3,5,10,50,100,500,1000]\n",
    "for i in lamda:\n",
    "    temp=[]\n",
    "    reg = LogisticRegression(penalty='l2',C=1/i)\n",
    "    reg.fit(X_train, y_train['yes'])   \n",
    "    raw_prob=reg.predict_proba(X_valid)\n",
    "    score = reg.score(X_train,y_train)\n",
    "    scores.append(score)\n",
    "    for y in theeta :\n",
    "        for x in range(0,len(y_valid)):\n",
    "            if(raw_prob[x][1] >y):\n",
    "                y_pred[x]=1\n",
    "            else:\n",
    "                y_pred[x]=0\n",
    "        temp.append(metrics.accuracy_score(y_valid, y_pred))\n",
    "    plt.plot(theeta, temp ,label=i)\n",
    "     \n",
    "#print(scores)\n",
    "plt.xlabel('theta')\n",
    "plt.ylabel('Accuracy')\n",
    "plt.legend( bbox_to_anchor=(1,1))\n",
    "\n",
    " #the best lamda value was lamda= 0.1,0.2,0.3,0.4 and theta=0.4\n",
    "reg = LogisticRegression(penalty='l2',C=1/0.4)\n",
    "reg.fit(X_train, y_train['yes'])\n",
    "raw_prob=reg.predict_proba(X_test)\n",
    "y_pred1=np.zeros(len(y_test))\n",
    "for x in range(0,len(y_test)):\n",
    "    if(raw_prob[x][1] >0.4):\n",
    "        y_pred1[x]=1\n",
    "    else:\n",
    "        y_pred1[x]=0\n",
    "accTest =metrics.accuracy_score(y_test, y_pred1)\n",
    "    \n",
    "                \n",
    "print(\"The accuracy of test.csv on model A for lamda=0.4 is :\\n\",accTest)\n"
   ]
  },
  {
   "cell_type": "markdown",
   "metadata": {
    "colab_type": "text",
    "id": "cTa2tMCPQmCV"
   },
   "source": [
    "### Task 5 (Report and Conclusion) (10 points)\n",
    "\n",
    "1.  Give a detailed report on the performance (that is, accuracy) of Models $\\mathcal{A}$, $\\mathcal{B}$ and $\\mathcal{C}$ on the respective training sets, the validation sets and finally the test. Explain any intuition you might have on what might be happening in each of the cases. Please avoid writing unnecessary details which are not pertinent.\n",
    "2.  Do you think accuracy, the metric which you have used to find the best hyperparameter in all the above tasks, a good metric in this scenario? Explain your choice.\n",
    "\n"
   ]
  },
  {
   "cell_type": "code",
   "execution_count": 72,
   "metadata": {},
   "outputs": [
    {
     "data": {
      "text/html": [
       "<div>\n",
       "<style scoped>\n",
       "    .dataframe tbody tr th:only-of-type {\n",
       "        vertical-align: middle;\n",
       "    }\n",
       "\n",
       "    .dataframe tbody tr th {\n",
       "        vertical-align: top;\n",
       "    }\n",
       "\n",
       "    .dataframe thead th {\n",
       "        text-align: right;\n",
       "    }\n",
       "</style>\n",
       "<table border=\"1\" class=\"dataframe\">\n",
       "  <thead>\n",
       "    <tr style=\"text-align: right;\">\n",
       "      <th></th>\n",
       "      <th>treshold</th>\n",
       "      <th>lamda</th>\n",
       "      <th>train.csv</th>\n",
       "      <th>valid.csv</th>\n",
       "      <th>test.csv</th>\n",
       "    </tr>\n",
       "  </thead>\n",
       "  <tbody>\n",
       "    <tr>\n",
       "      <th>A</th>\n",
       "      <td>0.5</td>\n",
       "      <td>0.1</td>\n",
       "      <td>0.8222780322056433</td>\n",
       "      <td>0.8151210868281158</td>\n",
       "      <td>0.7384717461019573</td>\n",
       "    </tr>\n",
       "    <tr>\n",
       "      <th>B</th>\n",
       "      <td>0.5</td>\n",
       "      <td>0.4</td>\n",
       "      <td>0.8954862791179927</td>\n",
       "      <td>0.8941111418302461</td>\n",
       "      <td>0.894061705186332</td>\n",
       "    </tr>\n",
       "    <tr>\n",
       "      <th>C</th>\n",
       "      <td>0.4</td>\n",
       "      <td>0.4</td>\n",
       "      <td>0.8954862791179927</td>\n",
       "      <td>0.8961846834393143</td>\n",
       "      <td>0.8963839433816212</td>\n",
       "    </tr>\n",
       "  </tbody>\n",
       "</table>\n",
       "</div>"
      ],
      "text/plain": [
       "  treshold lamda           train.csv           valid.csv            test.csv\n",
       "A      0.5   0.1  0.8222780322056433  0.8151210868281158  0.7384717461019573\n",
       "B      0.5   0.4  0.8954862791179927  0.8941111418302461   0.894061705186332\n",
       "C      0.4   0.4  0.8954862791179927  0.8961846834393143  0.8963839433816212"
      ]
     },
     "execution_count": 72,
     "metadata": {},
     "output_type": "execute_result"
    }
   ],
   "source": [
    "#These values were found out from the respective model and shown here in the tabe format\n",
    "pd.DataFrame( {'treshold':['0.5','0.5','0.4'],'lamda':['0.1','0.4','0.4'],'train.csv':['0.8222780322056433','0.8954862791179927','0.8954862791179927'],'valid.csv':['0.8151210868281158','0.8941111418302461','0.8961846834393143'],'test.csv':['0.7384717461019573','0.894061705186332','0.8963839433816212']},index = ['A', 'B','C'])\n"
   ]
  },
  {
   "cell_type": "markdown",
   "metadata": {},
   "source": [
    "1. <br>\n",
    "a. In model A the data in trainig set is only 6770, so the accuracy of valid.csv and test.csv is low <br>\n",
    "ab. In model B the data in training set is higher compared to the first one, so this model can predict better than the first one,hence the accuracy in this case is higher than that of modelA, further the accuracy of test and valid is comparable to that of train <br> \n",
    "c. In model C we find that for treshold=0.4 the model works the best and the accuracy increased for valid and test <br>\n",
    "\n",
    "2. <br>\n",
    "Yes, Since it is a logistic Regression, I think for this scenario it good  enough, because fom the accuracy matrix we get to know which value of hperparamaeter(C) gives the highest accuracy, we know that as the value of C increases the model will start overvfitting, so we calculate the value of C in different ranges and we check the accuracy for all the values. <br> We could also find which C gives the smallest difference between train and vaild accuracy and choose that C "
   ]
  },
  {
   "cell_type": "markdown",
   "metadata": {
    "colab_type": "text",
    "id": "3b62zDpk-O8v"
   },
   "source": [
    "## Problem 2 (50 points)\n",
    "\n",
    "Consider a regression problem in which the input variable $x$ has only one feature and the target variable $y$ is generated from the input variable $x$ by a polynomial $f(x)$. The function $f$ is such that $$f(x) = \\sum_{i=0}^d w_ix^i$$ Please note that a given polynomial function can be completely described by the vector of coefficients $\\mathbf{w}$.\n",
    "\n",
    "### Task 1 (5 points)\n",
    "\n",
    "Write a function in python which can take the degree of polynomial function as input. The code to generate vector coefficeints $\\mathbf{w}$ using this input is already provided. Plot the resulting function for $x \\in (-low, high)$. The function should be plot "
   ]
  },
  {
   "cell_type": "code",
   "execution_count": 73,
   "metadata": {
    "colab": {},
    "colab_type": "code",
    "id": "ivzCo28P_SFW"
   },
   "outputs": [
    {
     "data": {
      "image/png": "[encoded data removed]",
      "text/plain": [
       "<Figure size 432x288 with 1 Axes>"
      ]
     },
     "metadata": {},
     "output_type": "display_data"
    }
   ],
   "source": [
    "import numpy as np\n",
    "from scipy.special import legendre\n",
    "import matplotlib.pyplot as plt\n",
    "\n",
    "def get_coefficients(degree):\n",
    "    \"\"\"\n",
    "    The coefficients returned are in the order w_0, w_1, ... , w_{degree}\n",
    "    \"\"\"\n",
    "    return legendre(degree).coefficients[::-1]\n",
    "\n",
    "def visualize_function(degree, low, high):\n",
    "    w = get_coefficients(degree)\n",
    "    X= np.linspace(low,high)\n",
    "    Y=[]\n",
    "    for i in range(0,len(X)):   \n",
    "        y=0\n",
    "        for j in range(0,len(w)):\n",
    "            #print(w[j])\n",
    "            y+=w[j]* X[i]**j\n",
    "        Y.append(y)\n",
    "    plt.figure()\n",
    "    plt.plot(X,Y,\"b\")\n",
    "        \n",
    "    pass\n",
    "\n",
    "## TEST CASES (The following lines should plot a function)\n",
    "visualize_function(3, -1, 1)\n",
    "#visualize_function(4, -1, 1)\n",
    "#visualize_function(6, -1, 1)"
   ]
  },
  {
   "cell_type": "markdown",
   "metadata": {
    "colab_type": "text",
    "id": "z8Mm1YGNBH5u"
   },
   "source": [
    "### Task 2 (5 points)\n",
    "\n",
    "Write a function in python that randomly generates a dataset (training data + test data). The function should take the degree of target polynomial as input along with the number of points that should be generated for both the training and the test sets. The polynomial will be represented by the vector of coefficients. The code to calculate these coefficients has been provided. The function should also add random normal noise to the target -- i.e. the noise should be drawn from a normal distribution with mean $\\mu=0$ and standard deviation = $\\sigma^2$. Thus: \n",
    "$$y=\\sum_{i=0}^d w_ix^i + \\mathcal{N}(0, \\sigma^2)$$\n",
    "\n"
   ]
  },
  {
   "cell_type": "code",
   "execution_count": 74,
   "metadata": {
    "colab": {},
    "colab_type": "code",
    "id": "ZZ1zxLPvCyDt"
   },
   "outputs": [
    {
     "name": "stdout",
     "output_type": "stream",
     "text": [
      "Done\n"
     ]
    }
   ],
   "source": [
    "from sklearn.model_selection import train_test_split\n",
    "\n",
    "def generate_dataset(degree, n_train, n_test, sigma):\n",
    "    \"\"\"\n",
    "    - n_train - Number of training samples\n",
    "    - n_test - Number of test samples\n",
    "    - X_train is an array of size (n_train $\\times$ 1)\n",
    "    - y_train is an array of size (n_train $\\times$ 1)\n",
    "    - X_test is an array of size (n_test $\\times$ 1)\n",
    "    - y_test is an array of size (n_test $\\times$ 1)\n",
    "    \"\"\"\n",
    "   # np.random.seed(123)\n",
    "    w = get_coefficients(degree)\n",
    "    X_train= np.random.uniform(-1,1,n_train)\n",
    "    #X = np.zeros((n_train,len(w)))\n",
    "    X_train.sort()\n",
    "    y_train=[]\n",
    "    \n",
    "    X_test= np.random.uniform(-1,1,n_test)\n",
    "    X_test.sort()\n",
    "    y_test=[]\n",
    "    Y=[]\n",
    "    X =  np.random.uniform(-1,1,n_train+n_test)\n",
    "        \n",
    "    for i in range(0,len(X)):   \n",
    "        y=0\n",
    "        for j in range(0,len(w)):\n",
    "            #print(w[j])\n",
    "            y+=w[j]* X[i]**j + np.random.normal(0,sigma)\n",
    "        Y.append(y)\n",
    "   \n",
    "    #print(len(X),len(Y))\n",
    "    X_train, X_test, y_train, y_test = train_test_split( X, Y, test_size=n_test, random_state=69)\n",
    "    \n",
    "    return X_train, y_train, X_test, y_test\n",
    "generate_dataset(3,75,25,.2)\n",
    "print(\"Done\")"
   ]
  },
  {
   "cell_type": "markdown",
   "metadata": {
    "colab_type": "text",
    "id": "et9gTUzy_Sn9"
   },
   "source": [
    "### Task 3 (20 points)\n",
    "\n",
    "1.   Use the function written in Task 2 to generate a dataset of degree $10$, with $20$ samples each in the training and test sets. The standard deviation of the noise should be $0.2$.\n",
    "2.   Plot the generated points of the train set over the function. Make use the function you wrote in Task 1 to do so. The resultant plot should not only contain the function in blue color but also the generated points in the train set in red color.\n",
    "3.   Fit two linear regressions models: $\\mathcal{A}$ and $\\mathcal{B}$ on the given training data. Model $\\mathcal{A}$ should be quadratic and Model $\\mathcal{B}$ should be of degree $10$. How would you create such models?\n",
    "4. Calculate the training error and testing error on both these models and report them nicely in a table.\n",
    "5. Explain the results:\n",
    " - Are the results as expected or surprising? Explain your stance.\n",
    " - Give a detailed explanation of why this happens.\n",
    " \n",
    " **Hint**: You are free (in fact encouraged) to design new experiments under the same paradigm to understand what is happening. You can buttress your explanation with any plots which you might generate from such new experiments.\n",
    "\n",
    " \n",
    "Note: _There is no preference over the size of the answer but please note that you shouldn't write anything that is not pertinent. While being terse, your answer should clearly convey the intuition. Also, use logical number code/text cells---i.e. every subquestion in a given task which can be considered a logical unit should be present in one cell. Do not make one cell unnecessarily long by putting multiple answers in it or split a given answer over multiple cells. Use your best judgement."
   ]
  },
  {
   "cell_type": "code",
   "execution_count": 75,
   "metadata": {},
   "outputs": [
    {
     "data": {
      "image/png": "[encoded data removed]",
      "text/plain": [
       "<Figure size 432x288 with 1 Axes>"
      ]
     },
     "metadata": {},
     "output_type": "display_data"
    }
   ],
   "source": [
    "from numpy.polynomial import polynomial as P\n",
    "from sklearn.preprocessing import PolynomialFeatures\n",
    "from sklearn.linear_model import LinearRegression\n",
    "from sklearn.metrics import mean_squared_error\n",
    "X_train, y_train, X_test, y_test = generate_dataset(10,20,20,0.2)\n",
    "#print(X_train)\n",
    "#print(y_train)\n",
    "visualize_function(10, -1, 1)\n",
    "plt.plot(X_train,y_train,\"ro\")\n",
    "X=X_train\n",
    "X= X.reshape(-1,1)\n",
    "#print(X)\n"
   ]
  },
  {
   "cell_type": "code",
   "execution_count": 76,
   "metadata": {},
   "outputs": [
    {
     "name": "stdout",
     "output_type": "stream",
     "text": [
      "err2_train: 0.29572109053619106\n",
      "err2_test: 0.36416800442662883\n",
      "err10_train: 0.16721197845609687\n",
      "err10_test: 0.637599098536036\n"
     ]
    }
   ],
   "source": [
    "\n",
    "poly = PolynomialFeatures(degree=2)\n",
    "X_train_2= poly.fit_transform(X)\n",
    "#print(X_train_2)\n",
    "reg = LinearRegression().fit(X_train_2, y_train)\n",
    "modelA_coef=reg.coef_\n",
    "#print(\"coeff : \\n\\n \",modelA_coef)\n",
    "\n",
    "\n",
    "poly = PolynomialFeatures(degree=10)\n",
    "X_train_10= poly.fit_transform(X)\n",
    "#print(X_train_2)\n",
    "reg = LinearRegression().fit(X_train_10, y_train)\n",
    "modelB_coef=reg.coef_\n",
    "\n",
    "#print(modelA)\n",
    "y_pred2_train=[]\n",
    "y_pred10_train=[]\n",
    "y_pred2_test=[]\n",
    "y_pred10_test=[]\n",
    "for i in range(0,len(X_train)):   \n",
    "        y=0\n",
    "        for j in range(0,len(modelA_coef)):\n",
    "            y+=modelA_coef[j]* X_train[i]**j\n",
    "        y_pred2_train.append(y)\n",
    "#print(y_pred2_train)  \n",
    "\n",
    "err2_train= mean_squared_error(y_train, y_pred2_train)\n",
    "print(\"err2_train:\",err2_train)\n",
    "\n",
    "for i in range(0,len(X_test)):   \n",
    "        y=0\n",
    "        for j in range(0,len(modelA_coef)):\n",
    "            y+=modelA_coef[j]* X_test[i]**j\n",
    "        y_pred2_test.append(y)\n",
    "        \n",
    "err2_test= mean_squared_error(y_test, y_pred2_test)\n",
    "print(\"err2_test:\",err2_test)       \n",
    "\n",
    "for i in range(0,len(X_train)):   \n",
    "        y=0\n",
    "        for j in range(0,len(modelB_coef)):\n",
    "            y+=modelB_coef[j]* X_train[i]**j\n",
    "        y_pred10_train.append(y)\n",
    "\n",
    "err10_train= mean_squared_error(y_train, y_pred10_train)\n",
    "print(\"err10_train:\",err10_train) \n",
    "\n",
    "for i in range(0,len(X_test)):   \n",
    "        y=0\n",
    "        for j in range(0,len(modelB_coef)):\n",
    "            y+=modelB_coef[j]* X_test[i]**j\n",
    "        y_pred10_test.append(y)\n",
    "        \n",
    "err10_test= mean_squared_error(y_train, y_pred10_test)\n",
    "print(\"err10_test:\",err10_test)         \n",
    "\n",
    "\n",
    "\n",
    "train = [err2_train,err10_train]\n",
    "#test = [1,1]\n",
    "test = [err2_test,err10_test]\n",
    "\n",
    "\n"
   ]
  },
  {
   "cell_type": "code",
   "execution_count": 77,
   "metadata": {},
   "outputs": [
    {
     "data": {
      "text/html": [
       "<div>\n",
       "<style scoped>\n",
       "    .dataframe tbody tr th:only-of-type {\n",
       "        vertical-align: middle;\n",
       "    }\n",
       "\n",
       "    .dataframe tbody tr th {\n",
       "        vertical-align: top;\n",
       "    }\n",
       "\n",
       "    .dataframe thead th {\n",
       "        text-align: right;\n",
       "    }\n",
       "</style>\n",
       "<table border=\"1\" class=\"dataframe\">\n",
       "  <thead>\n",
       "    <tr style=\"text-align: right;\">\n",
       "      <th></th>\n",
       "      <th>train</th>\n",
       "      <th>test</th>\n",
       "    </tr>\n",
       "  </thead>\n",
       "  <tbody>\n",
       "    <tr>\n",
       "      <th>Degree2</th>\n",
       "      <td>0.295721</td>\n",
       "      <td>0.364168</td>\n",
       "    </tr>\n",
       "    <tr>\n",
       "      <th>Degree10</th>\n",
       "      <td>0.167212</td>\n",
       "      <td>0.637599</td>\n",
       "    </tr>\n",
       "  </tbody>\n",
       "</table>\n",
       "</div>"
      ],
      "text/plain": [
       "             train      test\n",
       "Degree2   0.295721  0.364168\n",
       "Degree10  0.167212  0.637599"
      ]
     },
     "execution_count": 77,
     "metadata": {},
     "output_type": "execute_result"
    }
   ],
   "source": [
    "pd.DataFrame( {'train':[err2_train,err10_train],'test':[err2_test,err10_test]},index = ['Degree2', 'Degree10'])\n"
   ]
  },
  {
   "cell_type": "markdown",
   "metadata": {},
   "source": [
    "### Answer 5:\n",
    "The results are as expected, <br>\n",
    "We are generating a dataset of degree 10, so the degree 10 polynomial should fit better than degree 2. <br>\n",
    "If we look at the above table we can see that the error in train set of degree 10 polynomial is less than that of degree 2 polynomial, this is as expected<br>\n",
    "But the error in test set of degree 10 is more than than of degree 2, this is because we can say that the degree10 train set is overfitting the data(since both the dataset and train have degree 10 polynomial)"
   ]
  },
  {
   "cell_type": "markdown",
   "metadata": {
    "colab_type": "text",
    "id": "APUqEUWUGmXo"
   },
   "source": [
    "### Task 4 (20 points)\n",
    "\n",
    "1.  Use the function written in Task 2 to generate a dataset of degree 45, with 20 samples each in the training and test sets. There should be no noise in the samples.\n",
    "2.  Repeat steps 2 to 4 from Task 3 for this dataset.\n",
    "3.  This target doesn't have noise like the previous one. Does this make the result surprising? Explain your stance. Also give a detailed explanation of why this happens.\n",
    "\n",
    "**Hint**: You are free (in fact encouraged) to design new experiements under the same paradigm to understand what is happening. You can buttress your explanation with any plots which you might generate from such new experiments."
   ]
  },
  {
   "cell_type": "code",
   "execution_count": 78,
   "metadata": {},
   "outputs": [
    {
     "data": {
      "image/png": "[encoded data removed]",
      "text/plain": [
       "<Figure size 432x288 with 1 Axes>"
      ]
     },
     "metadata": {},
     "output_type": "display_data"
    }
   ],
   "source": [
    "X_train, y_train, X_test, y_test = generate_dataset(45,20,20,0)\n",
    "#print(X_train)\n",
    "#print(y_train)\n",
    "visualize_function(45, -1, 1)\n",
    "plt.plot(X_train,y_train,\"ro\")\n",
    "X=X_train\n",
    "X= X.reshape(-1,1)\n"
   ]
  },
  {
   "cell_type": "code",
   "execution_count": 80,
   "metadata": {},
   "outputs": [
    {
     "name": "stdout",
     "output_type": "stream",
     "text": [
      "err2_train: 13035762.467645874\n",
      "err2_test: 41978264.42002042\n",
      "err10_train: 4301.077943411037\n",
      "err10_test: 791124910.3959355\n"
     ]
    }
   ],
   "source": [
    "\n",
    "poly = PolynomialFeatures(degree=2)\n",
    "X_train_2= poly.fit_transform(X)\n",
    "#print(X_train_2)\n",
    "reg = LinearRegression().fit(X_train_2, y_train)\n",
    "modelA_coef=reg.coef_\n",
    "\n",
    "\n",
    "poly = PolynomialFeatures(degree=10)\n",
    "X_train_10= poly.fit_transform(X)\n",
    "#print(X_train_2)\n",
    "reg = LinearRegression().fit(X_train_10, y_train)\n",
    "modelB_coef=reg.coef_\n",
    "\n",
    "#print(modelB_coef)\n",
    "\n",
    "y_pred2_train=[]\n",
    "y_pred10_train=[]\n",
    "y_pred2_test=[]\n",
    "y_pred10_test=[]\n",
    "\n",
    "y_pred2_train=np.dot(X_train_2,modelA_coef)\n",
    "err2_train= mean_squared_error(y_train, y_pred2_train)\n",
    "print(\"err2_train:\",err2_train)\n",
    "\n",
    "for i in range(0,len(X_test)):   \n",
    "        y=0\n",
    "        for j in range(0,len(modelA_coef)):\n",
    "            y+=modelA_coef[j]* X_test[i]**j\n",
    "        y_pred2_test.append(y)\n",
    "        \n",
    "err2_test= mean_squared_error(y_test, y_pred2_test)\n",
    "print(\"err2_test:\",err2_test)       \n",
    "\n",
    "\n",
    "y_pred10_train=np.dot(X_train_10,modelB_coef)\n",
    "err10_train= mean_squared_error(y_train, y_pred10_train)\n",
    "print(\"err10_train:\",err10_train) \n",
    "\n",
    "for i in range(0,len(X_test)):   \n",
    "        y=0\n",
    "        for j in range(0,len(modelB_coef)):\n",
    "            y+=modelB_coef[j]* X_test[i]**j\n",
    "        y_pred10_test.append(y)\n",
    "        \n",
    "err10_test= mean_squared_error(y_train, y_pred10_test)\n",
    "print(\"err10_test:\",err10_test)         \n",
    "\n",
    "train = [err2_train,err10_train]\n",
    "test = [err2_test,err10_test]\n",
    "\n"
   ]
  },
  {
   "cell_type": "code",
   "execution_count": 81,
   "metadata": {},
   "outputs": [
    {
     "data": {
      "text/html": [
       "<div>\n",
       "<style scoped>\n",
       "    .dataframe tbody tr th:only-of-type {\n",
       "        vertical-align: middle;\n",
       "    }\n",
       "\n",
       "    .dataframe tbody tr th {\n",
       "        vertical-align: top;\n",
       "    }\n",
       "\n",
       "    .dataframe thead th {\n",
       "        text-align: right;\n",
       "    }\n",
       "</style>\n",
       "<table border=\"1\" class=\"dataframe\">\n",
       "  <thead>\n",
       "    <tr style=\"text-align: right;\">\n",
       "      <th></th>\n",
       "      <th>train</th>\n",
       "      <th>test</th>\n",
       "    </tr>\n",
       "  </thead>\n",
       "  <tbody>\n",
       "    <tr>\n",
       "      <th>Degree2</th>\n",
       "      <td>1.303576e+07</td>\n",
       "      <td>4.197826e+07</td>\n",
       "    </tr>\n",
       "    <tr>\n",
       "      <th>Degree10</th>\n",
       "      <td>4.301078e+03</td>\n",
       "      <td>7.911249e+08</td>\n",
       "    </tr>\n",
       "  </tbody>\n",
       "</table>\n",
       "</div>"
      ],
      "text/plain": [
       "                 train          test\n",
       "Degree2   1.303576e+07  4.197826e+07\n",
       "Degree10  4.301078e+03  7.911249e+08"
      ]
     },
     "execution_count": 81,
     "metadata": {},
     "output_type": "execute_result"
    }
   ],
   "source": [
    "pd.DataFrame( {'train':[err2_train,err10_train],'test':[err2_test,err10_test]},index = ['Degree2', 'Degree10'])\n"
   ]
  },
  {
   "cell_type": "markdown",
   "metadata": {},
   "source": [
    "### Answer 5:\n",
    "Since the target doesnt have noise, the blue line and red dots fit each other perfectly <br>\n",
    "The results are not that suprising, since we are generating a dataset of degree 45, we can say that the degree 10 polynomial will be a better fit than the degree 2 polynomial, this is scene in the above table,\n",
    "both the degrees will be an underfit for the model, but degree 10 is less underfit compared to degree 2 that is why we have less errors for degree 10 \n",
    "\n",
    "From Below figures, note that degree 2 is a parabola while degree 10 is a wave.\n",
    "So we can say that degree 10 will have a better chance than degree 2 to fit the data "
   ]
  },
  {
   "cell_type": "code",
   "execution_count": 82,
   "metadata": {},
   "outputs": [
    {
     "data": {
      "text/plain": [
       "Text(0.5,1,'Degree10')"
      ]
     },
     "execution_count": 82,
     "metadata": {},
     "output_type": "execute_result"
    },
    {
     "data": {
      "image/png": "[encoded data removed]",
      "text/plain": [
       "<Figure size 432x288 with 1 Axes>"
      ]
     },
     "metadata": {},
     "output_type": "display_data"
    },
    {
     "data": {
      "image/png": "[encoded data removed]",
      "text/plain": [
       "<Figure size 432x288 with 1 Axes>"
      ]
     },
     "metadata": {},
     "output_type": "display_data"
    }
   ],
   "source": [
    "\n",
    "X_train, y_train, X_test, y_test = generate_dataset(45,20,20,0)\n",
    "\n",
    "visualize_function(2, -1, 1)\n",
    "#plt.plot(X_train,y_train,\"ro\")\n",
    "plt.title('Degree2')\n",
    "\n",
    "visualize_function(10, -1, 1)\n",
    "#plt.plot(X_train,y_train,\"go\")\n",
    "plt.title('Degree10')"
   ]
  },
  {
   "cell_type": "code",
   "execution_count": null,
   "metadata": {},
   "outputs": [],
   "source": []
  }
 ],
 "metadata": {
  "colab": {
   "collapsed_sections": [],
   "name": "Assignment2.ipynb",
   "provenance": [],
   "version": "0.3.2"
  },
  "kernelspec": {
   "display_name": "Python 3",
   "language": "python",
   "name": "python3"
  },
  "language_info": {
   "codemirror_mode": {
    "name": "ipython",
    "version": 3
   },
   "file_extension": ".py",
   "mimetype": "text/x-python",
   "name": "python",
   "nbconvert_exporter": "python",
   "pygments_lexer": "ipython3",
   "version": "3.6.8"
  }
 },
 "nbformat": 4,
 "nbformat_minor": 1
}
